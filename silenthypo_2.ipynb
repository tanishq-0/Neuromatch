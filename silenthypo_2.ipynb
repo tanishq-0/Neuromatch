{
  "nbformat": 4,
  "nbformat_minor": 0,
  "metadata": {
    "colab": {
      "provenance": [],
      "gpuType": "T4",
      "authorship_tag": "ABX9TyPwp9wyBgfBl6p9kqgV06cx",
      "include_colab_link": true
    },
    "kernelspec": {
      "name": "python3",
      "display_name": "Python 3"
    },
    "language_info": {
      "name": "python"
    },
    "accelerator": "GPU"
  },
  "cells": [
    {
      "cell_type": "markdown",
      "metadata": {
        "id": "view-in-github",
        "colab_type": "text"
      },
      "source": [
        "<a href=\"https://colab.research.google.com/github/tanishq-0/Neuromatch/blob/main/silenthypo_2.ipynb\" target=\"_parent\"><img src=\"https://colab.research.google.com/assets/colab-badge.svg\" alt=\"Open In Colab\"/></a>"
      ]
    },
    {
      "cell_type": "markdown",
      "source": [
        "# Introduction & Hypotheses\n",
        "\n",
        "Under 0% contrast—when no visual cue is present—mice must rely entirely on their internal expectations to decide which side to choose. Recent work (Teodorescu et al. 2023, preprint: https://www.biorxiv.org/content/10.1101/2023.07.04.547684v1) shows that 20–30% of brain regions encode these priors in their pre‑stimulus activity, with secondary motor cortex (MOs) among the strongest.\n",
        "\n",
        "In this notebook, we examine whether MOs firing in the 0–0.5 s before stimulus onset predicts the trial’s block bias (probabilityLeft) and whether it carries information about the mouse’s eventual choice. Although choice decoding can often be achieved in downstream motor areas, our focus here is on the prior—what the mouse expects.\n",
        "\n",
        "All sessions tagged with MOs were selected and, in this initial analysis, included all neurons on that probe rather than anatomically restricting to neurons from MOs. Future work should refine this selection and also extend it to other frontal regions (e.g., PL, ACCd).\n",
        "\n",
        "\n",
        "## Hypotheses & Analyses\n",
        "\n",
        "We ran four tests:\n",
        "\n",
        "1. **Predict block bias (all blocks)**  \n",
        "   - Use MOs firing 0–0.5 s before stimulus to predict `probabilityLeft` (0.2, 0.5, 0.8) on every trial.  \n",
        "   - **Result**: 57.7 % accuracy (±10.6 %), p < 0.001.  \n",
        "\n",
        "2. **Predict block bias (strong bias only)**  \n",
        "   - Restrict to 0‑contrast trials with `probabilityLeft` = 0.2 or 0.8.  \n",
        "   - **Result**: 58.5 % accuracy (±4.2 %), p < 0.001.  \n",
        "\n",
        "3. **Predict choice (all contrasts)**  \n",
        "   - Predict left vs right choice from pre‑stimulus activity over all contrasts.  \n",
        "   - **Result**: 51.5 % accuracy (±3.4 %), p = 0.22 (not significant).  \n",
        "\n",
        "4. **Predict choice (zero contrast)**  \n",
        "   - Predict choice with no sensory evidence (contrast = 0).  \n",
        "   - **Result**: 59.4 % accuracy (±7.4 %), p = 0.18 (not significant).  \n",
        "\n",
        "\n",
        "## Interpretation\n",
        "\n",
        "- MOs firing *before* the stimulus reliably reflects the block bias the mouse has learned—even with no visual cue.  \n",
        "- Pre‑stimulus MOs activity does **not** reliably predict the actual choice, except weakly under zero contrast.  \n",
        "- This supports the idea that **priors are encoded in frontal cortex**, while choice signals may rely on other regions or later processing stages.  \n",
        "\n",
        "\n",
        "## Limitations\n",
        "\n",
        "-  **Selected a single session** with MOs units and used **all sorted clusters** in that probe’s range, rather than sub-selecting only the most anterior or strictly “MOs‐only” channels.\n",
        "\n",
        "- Results should be replicated across additional sessions and, ideally, across multiple frontal subregions (PL, ACCd) to confirm generality.\n",
        "\n",
        "- **Pre-processing and dimensionality reduction** (e.g., PCA, regularization) were minimal—tuning these steps may enhance decoding performance.\n",
        "\n",
        "- **Model hyperparameters** were left at defaults; systematic optimization (e.g., grid search, nested CV) could further boost accuracy.\n",
        "\n",
        "- Increasing number of trials could also improve the models generalization."
      ],
      "metadata": {
        "id": "GWE8FmTMwf59"
      }
    },
    {
      "cell_type": "code",
      "source": [
        "! pip install ONE-api\n",
        "! pip install ibllib"
      ],
      "metadata": {
        "colab": {
          "base_uri": "https://localhost:8080/"
        },
        "collapsed": true,
        "id": "oAZyweq5ORDX",
        "outputId": "b6cf5465-a8f3-4a6c-effb-5b640e0511f3"
      },
      "execution_count": null,
      "outputs": [
        {
          "output_type": "stream",
          "name": "stdout",
          "text": [
            "Collecting ONE-api\n",
            "  Using cached one_api-3.3.0-py3-none-any.whl.metadata (4.2 kB)\n",
            "Requirement already satisfied: ruff in /usr/local/lib/python3.11/dist-packages (from ONE-api) (0.12.4)\n",
            "Requirement already satisfied: numpy>=1.18 in /usr/local/lib/python3.11/dist-packages (from ONE-api) (2.0.2)\n",
            "Requirement already satisfied: pandas>=1.5.0 in /usr/local/lib/python3.11/dist-packages (from ONE-api) (2.2.2)\n",
            "Requirement already satisfied: tqdm>=4.32.1 in /usr/local/lib/python3.11/dist-packages (from ONE-api) (4.67.1)\n",
            "Requirement already satisfied: requests>=2.22.0 in /usr/local/lib/python3.11/dist-packages (from ONE-api) (2.32.3)\n",
            "Collecting iblutil>=1.14.0 (from ONE-api)\n",
            "  Using cached iblutil-1.20.0-py3-none-any.whl.metadata (1.6 kB)\n",
            "Requirement already satisfied: packaging in /usr/local/lib/python3.11/dist-packages (from ONE-api) (25.0)\n",
            "Collecting boto3 (from ONE-api)\n",
            "  Using cached boto3-1.39.12-py3-none-any.whl.metadata (6.7 kB)\n",
            "Requirement already satisfied: pyyaml in /usr/local/lib/python3.11/dist-packages (from ONE-api) (6.0.2)\n",
            "Collecting colorlog>=6.0.0 (from iblutil>=1.14.0->ONE-api)\n",
            "  Using cached colorlog-6.9.0-py3-none-any.whl.metadata (10 kB)\n",
            "Requirement already satisfied: numba>0.53.1 in /usr/local/lib/python3.11/dist-packages (from iblutil>=1.14.0->ONE-api) (0.60.0)\n",
            "Requirement already satisfied: pyarrow in /usr/local/lib/python3.11/dist-packages (from iblutil>=1.14.0->ONE-api) (18.1.0)\n",
            "Requirement already satisfied: scipy in /usr/local/lib/python3.11/dist-packages (from iblutil>=1.14.0->ONE-api) (1.16.0)\n",
            "Requirement already satisfied: python-dateutil>=2.8.2 in /usr/local/lib/python3.11/dist-packages (from pandas>=1.5.0->ONE-api) (2.9.0.post0)\n",
            "Requirement already satisfied: pytz>=2020.1 in /usr/local/lib/python3.11/dist-packages (from pandas>=1.5.0->ONE-api) (2025.2)\n",
            "Requirement already satisfied: tzdata>=2022.7 in /usr/local/lib/python3.11/dist-packages (from pandas>=1.5.0->ONE-api) (2025.2)\n",
            "Requirement already satisfied: charset-normalizer<4,>=2 in /usr/local/lib/python3.11/dist-packages (from requests>=2.22.0->ONE-api) (3.4.2)\n",
            "Requirement already satisfied: idna<4,>=2.5 in /usr/local/lib/python3.11/dist-packages (from requests>=2.22.0->ONE-api) (3.10)\n",
            "Requirement already satisfied: urllib3<3,>=1.21.1 in /usr/local/lib/python3.11/dist-packages (from requests>=2.22.0->ONE-api) (2.5.0)\n",
            "Requirement already satisfied: certifi>=2017.4.17 in /usr/local/lib/python3.11/dist-packages (from requests>=2.22.0->ONE-api) (2025.7.14)\n",
            "Collecting botocore<1.40.0,>=1.39.12 (from boto3->ONE-api)\n",
            "  Using cached botocore-1.39.12-py3-none-any.whl.metadata (5.7 kB)\n",
            "Collecting jmespath<2.0.0,>=0.7.1 (from boto3->ONE-api)\n",
            "  Using cached jmespath-1.0.1-py3-none-any.whl.metadata (7.6 kB)\n",
            "Collecting s3transfer<0.14.0,>=0.13.0 (from boto3->ONE-api)\n",
            "  Using cached s3transfer-0.13.1-py3-none-any.whl.metadata (1.7 kB)\n",
            "Requirement already satisfied: llvmlite<0.44,>=0.43.0dev0 in /usr/local/lib/python3.11/dist-packages (from numba>0.53.1->iblutil>=1.14.0->ONE-api) (0.43.0)\n",
            "Requirement already satisfied: six>=1.5 in /usr/local/lib/python3.11/dist-packages (from python-dateutil>=2.8.2->pandas>=1.5.0->ONE-api) (1.17.0)\n",
            "Using cached one_api-3.3.0-py3-none-any.whl (996 kB)\n",
            "Using cached iblutil-1.20.0-py3-none-any.whl (43 kB)\n",
            "Using cached boto3-1.39.12-py3-none-any.whl (139 kB)\n",
            "Using cached botocore-1.39.12-py3-none-any.whl (13.9 MB)\n",
            "Using cached colorlog-6.9.0-py3-none-any.whl (11 kB)\n",
            "Using cached jmespath-1.0.1-py3-none-any.whl (20 kB)\n",
            "Downloading s3transfer-0.13.1-py3-none-any.whl (85 kB)\n",
            "\u001b[2K   \u001b[90m━━━━━━━━━━━━━━━━━━━━━━━━━━━━━━━━━━━━━━━━\u001b[0m \u001b[32m85.3/85.3 kB\u001b[0m \u001b[31m2.2 MB/s\u001b[0m eta \u001b[36m0:00:00\u001b[0m\n",
            "\u001b[?25hInstalling collected packages: jmespath, colorlog, botocore, s3transfer, iblutil, boto3, ONE-api\n",
            "Successfully installed ONE-api-3.3.0 boto3-1.39.12 botocore-1.39.12 colorlog-6.9.0 iblutil-1.20.0 jmespath-1.0.1 s3transfer-0.13.1\n",
            "Collecting ibllib\n",
            "  Using cached ibllib-3.4.1-py3-none-any.whl.metadata (3.0 kB)\n",
            "Requirement already satisfied: boto3 in /usr/local/lib/python3.11/dist-packages (from ibllib) (1.39.12)\n",
            "Requirement already satisfied: click>=7.0.0 in /usr/local/lib/python3.11/dist-packages (from ibllib) (8.2.1)\n",
            "Requirement already satisfied: colorlog>=4.0.2 in /usr/local/lib/python3.11/dist-packages (from ibllib) (6.9.0)\n",
            "Collecting flake8>=3.7.8 (from ibllib)\n",
            "  Using cached flake8-7.3.0-py2.py3-none-any.whl.metadata (3.8 kB)\n",
            "Collecting globus-sdk (from ibllib)\n",
            "  Using cached globus_sdk-3.61.0-py3-none-any.whl.metadata (2.1 kB)\n",
            "Requirement already satisfied: graphviz in /usr/local/lib/python3.11/dist-packages (from ibllib) (0.21)\n",
            "Requirement already satisfied: matplotlib>=3.0.3 in /usr/local/lib/python3.11/dist-packages (from ibllib) (3.10.0)\n",
            "Requirement already satisfied: numba>=0.56 in /usr/local/lib/python3.11/dist-packages (from ibllib) (0.60.0)\n",
            "Requirement already satisfied: numpy<=2.2,>=1.18 in /usr/local/lib/python3.11/dist-packages (from ibllib) (2.0.2)\n",
            "Collecting nptdms (from ibllib)\n",
            "  Using cached nptdms-1.10.0.tar.gz (181 kB)\n",
            "  Installing build dependencies ... \u001b[?25l\u001b[?25hdone\n",
            "  Getting requirements to build wheel ... \u001b[?25l\u001b[?25hdone\n",
            "  Preparing metadata (pyproject.toml) ... \u001b[?25l\u001b[?25hdone\n",
            "Requirement already satisfied: opencv-python-headless in /usr/local/lib/python3.11/dist-packages (from ibllib) (4.12.0.88)\n",
            "Requirement already satisfied: pandas in /usr/local/lib/python3.11/dist-packages (from ibllib) (2.2.2)\n",
            "Requirement already satisfied: pyarrow in /usr/local/lib/python3.11/dist-packages (from ibllib) (18.1.0)\n",
            "Collecting pynrrd>=0.4.0 (from ibllib)\n",
            "  Using cached pynrrd-1.1.3-py3-none-any.whl.metadata (5.4 kB)\n",
            "Requirement already satisfied: pytest in /usr/local/lib/python3.11/dist-packages (from ibllib) (8.4.1)\n",
            "Requirement already satisfied: requests>=2.22.0 in /usr/local/lib/python3.11/dist-packages (from ibllib) (2.32.3)\n",
            "Requirement already satisfied: scikit-learn>=0.22.1 in /usr/local/lib/python3.11/dist-packages (from ibllib) (1.6.1)\n",
            "Requirement already satisfied: scipy>=1.7.0 in /usr/local/lib/python3.11/dist-packages (from ibllib) (1.16.0)\n",
            "Requirement already satisfied: scikit-image in /usr/local/lib/python3.11/dist-packages (from ibllib) (0.25.2)\n",
            "Collecting imagecodecs (from ibllib)\n",
            "  Using cached imagecodecs-2025.3.30-cp311-cp311-manylinux_2_17_x86_64.manylinux2014_x86_64.whl.metadata (20 kB)\n",
            "Collecting sparse (from ibllib)\n",
            "  Using cached sparse-0.17.0-py2.py3-none-any.whl.metadata (5.3 kB)\n",
            "Requirement already satisfied: seaborn>=0.9.0 in /usr/local/lib/python3.11/dist-packages (from ibllib) (0.13.2)\n",
            "Requirement already satisfied: tqdm>=4.32.1 in /usr/local/lib/python3.11/dist-packages (from ibllib) (4.67.1)\n",
            "Collecting iblatlas>=0.5.3 (from ibllib)\n",
            "  Using cached iblatlas-0.9.0-py3-none-any.whl.metadata (3.3 kB)\n",
            "Collecting ibl-neuropixel>=1.6.2 (from ibllib)\n",
            "  Using cached ibl_neuropixel-1.8.1-py3-none-any.whl.metadata (2.5 kB)\n",
            "Requirement already satisfied: iblutil>=1.13.0 in /usr/local/lib/python3.11/dist-packages (from ibllib) (1.20.0)\n",
            "Collecting iblqt>=0.4.2 (from ibllib)\n",
            "  Using cached iblqt-0.8.0-py3-none-any.whl.metadata (1.6 kB)\n",
            "Collecting mtscomp>=1.0.1 (from ibllib)\n",
            "  Using cached mtscomp-1.0.2-py2.py3-none-any.whl.metadata (7.2 kB)\n",
            "Requirement already satisfied: ONE-api>=3.2.0 in /usr/local/lib/python3.11/dist-packages (from ibllib) (3.3.0)\n",
            "Collecting phylib>=2.6.0 (from ibllib)\n",
            "  Using cached phylib-2.6.1-py2.py3-none-any.whl.metadata (1.3 kB)\n",
            "Collecting psychofit (from ibllib)\n",
            "  Using cached Psychofit-1.0.0.post0-py3-none-any.whl.metadata (2.0 kB)\n",
            "Collecting slidingRP>=1.1.1 (from ibllib)\n",
            "  Using cached slidingRP-1.1.1-py3-none-any.whl.metadata (1.8 kB)\n",
            "Collecting pyqt5 (from ibllib)\n",
            "  Using cached PyQt5-5.15.11-cp38-abi3-manylinux_2_17_x86_64.whl.metadata (2.1 kB)\n",
            "Collecting ibl-style (from ibllib)\n",
            "  Using cached ibl_style-0.1.0-py3-none-any.whl.metadata (10 kB)\n",
            "Collecting mccabe<0.8.0,>=0.7.0 (from flake8>=3.7.8->ibllib)\n",
            "  Using cached mccabe-0.7.0-py2.py3-none-any.whl.metadata (5.0 kB)\n",
            "Collecting pycodestyle<2.15.0,>=2.14.0 (from flake8>=3.7.8->ibllib)\n",
            "  Using cached pycodestyle-2.14.0-py2.py3-none-any.whl.metadata (4.5 kB)\n",
            "Collecting pyflakes<3.5.0,>=3.4.0 (from flake8>=3.7.8->ibllib)\n",
            "  Using cached pyflakes-3.4.0-py2.py3-none-any.whl.metadata (3.5 kB)\n",
            "Requirement already satisfied: joblib in /usr/local/lib/python3.11/dist-packages (from ibl-neuropixel>=1.6.2->ibllib) (1.5.1)\n",
            "Collecting qtpy>=2.4.1 (from iblqt>=0.4.2->ibllib)\n",
            "  Using cached QtPy-2.4.3-py3-none-any.whl.metadata (12 kB)\n",
            "Collecting pyqtgraph>=0.13.7 (from iblqt>=0.4.2->ibllib)\n",
            "  Using cached pyqtgraph-0.13.7-py3-none-any.whl.metadata (1.3 kB)\n",
            "Requirement already satisfied: packaging in /usr/local/lib/python3.11/dist-packages (from iblutil>=1.13.0->ibllib) (25.0)\n",
            "Requirement already satisfied: contourpy>=1.0.1 in /usr/local/lib/python3.11/dist-packages (from matplotlib>=3.0.3->ibllib) (1.3.2)\n",
            "Requirement already satisfied: cycler>=0.10 in /usr/local/lib/python3.11/dist-packages (from matplotlib>=3.0.3->ibllib) (0.12.1)\n",
            "Requirement already satisfied: fonttools>=4.22.0 in /usr/local/lib/python3.11/dist-packages (from matplotlib>=3.0.3->ibllib) (4.59.0)\n",
            "Requirement already satisfied: kiwisolver>=1.3.1 in /usr/local/lib/python3.11/dist-packages (from matplotlib>=3.0.3->ibllib) (1.4.8)\n",
            "Requirement already satisfied: pillow>=8 in /usr/local/lib/python3.11/dist-packages (from matplotlib>=3.0.3->ibllib) (11.3.0)\n",
            "Requirement already satisfied: pyparsing>=2.3.1 in /usr/local/lib/python3.11/dist-packages (from matplotlib>=3.0.3->ibllib) (3.2.3)\n",
            "Requirement already satisfied: python-dateutil>=2.7 in /usr/local/lib/python3.11/dist-packages (from matplotlib>=3.0.3->ibllib) (2.9.0.post0)\n",
            "Requirement already satisfied: llvmlite<0.44,>=0.43.0dev0 in /usr/local/lib/python3.11/dist-packages (from numba>=0.56->ibllib) (0.43.0)\n",
            "Requirement already satisfied: ruff in /usr/local/lib/python3.11/dist-packages (from ONE-api>=3.2.0->ibllib) (0.12.4)\n",
            "Requirement already satisfied: pyyaml in /usr/local/lib/python3.11/dist-packages (from ONE-api>=3.2.0->ibllib) (6.0.2)\n",
            "Requirement already satisfied: pytz>=2020.1 in /usr/local/lib/python3.11/dist-packages (from pandas->ibllib) (2025.2)\n",
            "Requirement already satisfied: tzdata>=2022.7 in /usr/local/lib/python3.11/dist-packages (from pandas->ibllib) (2025.2)\n",
            "Requirement already satisfied: dask in /usr/local/lib/python3.11/dist-packages (from phylib>=2.6.0->ibllib) (2025.5.0)\n",
            "Requirement already satisfied: toolz in /usr/local/lib/python3.11/dist-packages (from phylib>=2.6.0->ibllib) (0.12.1)\n",
            "Requirement already satisfied: typing_extensions in /usr/local/lib/python3.11/dist-packages (from pynrrd>=0.4.0->ibllib) (4.14.1)\n",
            "Requirement already satisfied: charset-normalizer<4,>=2 in /usr/local/lib/python3.11/dist-packages (from requests>=2.22.0->ibllib) (3.4.2)\n",
            "Requirement already satisfied: idna<4,>=2.5 in /usr/local/lib/python3.11/dist-packages (from requests>=2.22.0->ibllib) (3.10)\n",
            "Requirement already satisfied: urllib3<3,>=1.21.1 in /usr/local/lib/python3.11/dist-packages (from requests>=2.22.0->ibllib) (2.5.0)\n",
            "Requirement already satisfied: certifi>=2017.4.17 in /usr/local/lib/python3.11/dist-packages (from requests>=2.22.0->ibllib) (2025.7.14)\n",
            "Requirement already satisfied: threadpoolctl>=3.1.0 in /usr/local/lib/python3.11/dist-packages (from scikit-learn>=0.22.1->ibllib) (3.6.0)\n",
            "Requirement already satisfied: colorcet in /usr/local/lib/python3.11/dist-packages (from slidingRP>=1.1.1->ibllib) (3.1.0)\n",
            "Requirement already satisfied: statsmodels in /usr/local/lib/python3.11/dist-packages (from slidingRP>=1.1.1->ibllib) (0.14.5)\n",
            "Requirement already satisfied: botocore<1.40.0,>=1.39.12 in /usr/local/lib/python3.11/dist-packages (from boto3->ibllib) (1.39.12)\n",
            "Requirement already satisfied: jmespath<2.0.0,>=0.7.1 in /usr/local/lib/python3.11/dist-packages (from boto3->ibllib) (1.0.1)\n",
            "Requirement already satisfied: s3transfer<0.14.0,>=0.13.0 in /usr/local/lib/python3.11/dist-packages (from boto3->ibllib) (0.13.1)\n",
            "Requirement already satisfied: pyjwt<3.0.0,>=2.0.0 in /usr/local/lib/python3.11/dist-packages (from pyjwt[crypto]<3.0.0,>=2.0.0->globus-sdk->ibllib) (2.10.1)\n",
            "Requirement already satisfied: cryptography!=3.4.0,>=3.3.1 in /usr/local/lib/python3.11/dist-packages (from globus-sdk->ibllib) (43.0.3)\n",
            "Collecting figrid (from ibl-style->ibllib)\n",
            "  Using cached figrid-0.1.7-py3-none-any.whl.metadata (6.4 kB)\n",
            "Collecting PyQt5-sip<13,>=12.15 (from pyqt5->ibllib)\n",
            "  Using cached PyQt5_sip-12.17.0-cp311-cp311-manylinux_2_5_x86_64.manylinux1_x86_64.whl.metadata (472 bytes)\n",
            "Collecting PyQt5-Qt5<5.16.0,>=5.15.2 (from pyqt5->ibllib)\n",
            "  Using cached PyQt5_Qt5-5.15.17-py3-none-manylinux2014_x86_64.whl.metadata (536 bytes)\n",
            "Requirement already satisfied: iniconfig>=1 in /usr/local/lib/python3.11/dist-packages (from pytest->ibllib) (2.1.0)\n",
            "Requirement already satisfied: pluggy<2,>=1.5 in /usr/local/lib/python3.11/dist-packages (from pytest->ibllib) (1.6.0)\n",
            "Requirement already satisfied: pygments>=2.7.2 in /usr/local/lib/python3.11/dist-packages (from pytest->ibllib) (2.19.2)\n",
            "Requirement already satisfied: networkx>=3.0 in /usr/local/lib/python3.11/dist-packages (from scikit-image->ibllib) (3.5)\n",
            "Requirement already satisfied: imageio!=2.35.0,>=2.33 in /usr/local/lib/python3.11/dist-packages (from scikit-image->ibllib) (2.37.0)\n",
            "Requirement already satisfied: tifffile>=2022.8.12 in /usr/local/lib/python3.11/dist-packages (from scikit-image->ibllib) (2025.6.11)\n",
            "Requirement already satisfied: lazy-loader>=0.4 in /usr/local/lib/python3.11/dist-packages (from scikit-image->ibllib) (0.4)\n",
            "Requirement already satisfied: cffi>=1.12 in /usr/local/lib/python3.11/dist-packages (from cryptography!=3.4.0,>=3.3.1->globus-sdk->ibllib) (1.17.1)\n",
            "Requirement already satisfied: six>=1.5 in /usr/local/lib/python3.11/dist-packages (from python-dateutil>=2.7->matplotlib>=3.0.3->ibllib) (1.17.0)\n",
            "Requirement already satisfied: cloudpickle>=3.0.0 in /usr/local/lib/python3.11/dist-packages (from dask->phylib>=2.6.0->ibllib) (3.1.1)\n",
            "Requirement already satisfied: fsspec>=2021.09.0 in /usr/local/lib/python3.11/dist-packages (from dask->phylib>=2.6.0->ibllib) (2025.7.0)\n",
            "Requirement already satisfied: partd>=1.4.0 in /usr/local/lib/python3.11/dist-packages (from dask->phylib>=2.6.0->ibllib) (1.4.2)\n",
            "Requirement already satisfied: importlib_metadata>=4.13.0 in /usr/local/lib/python3.11/dist-packages (from dask->phylib>=2.6.0->ibllib) (8.7.0)\n",
            "Requirement already satisfied: patsy>=0.5.6 in /usr/local/lib/python3.11/dist-packages (from statsmodels->slidingRP>=1.1.1->ibllib) (1.0.1)\n",
            "Requirement already satisfied: pycparser in /usr/local/lib/python3.11/dist-packages (from cffi>=1.12->cryptography!=3.4.0,>=3.3.1->globus-sdk->ibllib) (2.22)\n",
            "Requirement already satisfied: zipp>=3.20 in /usr/local/lib/python3.11/dist-packages (from importlib_metadata>=4.13.0->dask->phylib>=2.6.0->ibllib) (3.23.0)\n",
            "Requirement already satisfied: locket in /usr/local/lib/python3.11/dist-packages (from partd>=1.4.0->dask->phylib>=2.6.0->ibllib) (1.0.0)\n",
            "Using cached ibllib-3.4.1-py3-none-any.whl (8.7 MB)\n",
            "Using cached flake8-7.3.0-py2.py3-none-any.whl (57 kB)\n",
            "Using cached ibl_neuropixel-1.8.1-py3-none-any.whl (111 kB)\n",
            "Using cached iblatlas-0.9.0-py3-none-any.whl (206 kB)\n",
            "Using cached iblqt-0.8.0-py3-none-any.whl (21 kB)\n",
            "Using cached mtscomp-1.0.2-py2.py3-none-any.whl (16 kB)\n",
            "Using cached phylib-2.6.1-py2.py3-none-any.whl (80 kB)\n",
            "Using cached pynrrd-1.1.3-py3-none-any.whl (23 kB)\n",
            "Using cached slidingRP-1.1.1-py3-none-any.whl (40 kB)\n",
            "Using cached globus_sdk-3.61.0-py3-none-any.whl (415 kB)\n",
            "Using cached ibl_style-0.1.0-py3-none-any.whl (11 kB)\n",
            "Using cached imagecodecs-2025.3.30-cp311-cp311-manylinux_2_17_x86_64.manylinux2014_x86_64.whl (45.6 MB)\n",
            "Using cached Psychofit-1.0.0.post0-py3-none-any.whl (5.7 kB)\n",
            "Using cached PyQt5-5.15.11-cp38-abi3-manylinux_2_17_x86_64.whl (8.2 MB)\n",
            "Using cached sparse-0.17.0-py2.py3-none-any.whl (259 kB)\n",
            "Using cached mccabe-0.7.0-py2.py3-none-any.whl (7.3 kB)\n",
            "Using cached pycodestyle-2.14.0-py2.py3-none-any.whl (31 kB)\n",
            "Using cached pyflakes-3.4.0-py2.py3-none-any.whl (63 kB)\n",
            "Downloading PyQt5_Qt5-5.15.17-py3-none-manylinux2014_x86_64.whl (61.1 MB)\n",
            "\u001b[2K   \u001b[90m━━━━━━━━━━━━━━━━━━━━━━━━━━━━━━━━━━━━━━━━\u001b[0m \u001b[32m61.1/61.1 MB\u001b[0m \u001b[31m12.4 MB/s\u001b[0m eta \u001b[36m0:00:00\u001b[0m\n",
            "\u001b[?25hDownloading PyQt5_sip-12.17.0-cp311-cp311-manylinux_2_5_x86_64.manylinux1_x86_64.whl (276 kB)\n",
            "\u001b[2K   \u001b[90m━━━━━━━━━━━━━━━━━━━━━━━━━━━━━━━━━━━━━━━━\u001b[0m \u001b[32m276.4/276.4 kB\u001b[0m \u001b[31m24.0 MB/s\u001b[0m eta \u001b[36m0:00:00\u001b[0m\n",
            "\u001b[?25hDownloading pyqtgraph-0.13.7-py3-none-any.whl (1.9 MB)\n",
            "\u001b[2K   \u001b[90m━━━━━━━━━━━━━━━━━━━━━━━━━━━━━━━━━━━━━━━━\u001b[0m \u001b[32m1.9/1.9 MB\u001b[0m \u001b[31m85.9 MB/s\u001b[0m eta \u001b[36m0:00:00\u001b[0m\n",
            "\u001b[?25hDownloading QtPy-2.4.3-py3-none-any.whl (95 kB)\n",
            "\u001b[2K   \u001b[90m━━━━━━━━━━━━━━━━━━━━━━━━━━━━━━━━━━━━━━━━\u001b[0m \u001b[32m95.0/95.0 kB\u001b[0m \u001b[31m8.9 MB/s\u001b[0m eta \u001b[36m0:00:00\u001b[0m\n",
            "\u001b[?25hDownloading figrid-0.1.7-py3-none-any.whl (7.1 kB)\n",
            "Building wheels for collected packages: nptdms\n",
            "  Building wheel for nptdms (pyproject.toml) ... \u001b[?25l\u001b[?25hdone\n",
            "  Created wheel for nptdms: filename=nptdms-1.10.0-py3-none-any.whl size=108456 sha256=98dd0dbca57d0c6dd0f61c9fdb085b04a84283bbb99318f7f7d70ed1df1125ea\n",
            "  Stored in directory: /root/.cache/pip/wheels/1b/4b/17/21e8b03b37ea51ce7ec9f5570cdf0decca93f537d61c06880f\n",
            "Successfully built nptdms\n",
            "Installing collected packages: PyQt5-Qt5, mtscomp, qtpy, pyqtgraph, PyQt5-sip, pynrrd, pyflakes, pycodestyle, nptdms, mccabe, imagecodecs, sparse, pyqt5, psychofit, flake8, phylib, slidingRP, globus-sdk, figrid, ibl-style, iblqt, iblatlas, ibl-neuropixel, ibllib\n",
            "Successfully installed PyQt5-Qt5-5.15.17 PyQt5-sip-12.17.0 figrid-0.1.7 flake8-7.3.0 globus-sdk-3.61.0 ibl-neuropixel-1.8.1 ibl-style-0.1.0 iblatlas-0.9.0 ibllib-3.4.1 iblqt-0.8.0 imagecodecs-2025.3.30 mccabe-0.7.0 mtscomp-1.0.2 nptdms-1.10.0 phylib-2.6.1 psychofit-1.0.0.post0 pycodestyle-2.14.0 pyflakes-3.4.0 pynrrd-1.1.3 pyqt5-5.15.11 pyqtgraph-0.13.7 qtpy-2.4.3 slidingRP-1.1.1 sparse-0.17.0\n"
          ]
        }
      ]
    },
    {
      "cell_type": "code",
      "execution_count": null,
      "metadata": {
        "colab": {
          "base_uri": "https://localhost:8080/"
        },
        "collapsed": true,
        "id": "lYRVxSd_OIqJ",
        "outputId": "8f090453-089e-491b-c685-fbd19ceb9e0c"
      },
      "outputs": [
        {
          "output_type": "stream",
          "name": "stdout",
          "text": [
            "Connected to https://openalyx.internationalbrainlab.org as user \"intbrainlab\"\n"
          ]
        }
      ],
      "source": [
        "from one.api import ONE\n",
        "ONE.setup(base_url='https://openalyx.internationalbrainlab.org', silent=True)\n",
        "one = ONE(password='international')"
      ]
    },
    {
      "cell_type": "code",
      "source": [
        "from one.api import ONE\n",
        "one = ONE()"
      ],
      "metadata": {
        "id": "e2gKTkgjOf4f"
      },
      "execution_count": null,
      "outputs": []
    },
    {
      "cell_type": "code",
      "source": [
        "brain_acronym = ['MOs']\n",
        "# query sessions endpoint\n",
        "sessions = one.search(atlas_acronym=brain_acronym, query_type='remote')\n",
        "print(f'No. of detected sessions: {len(sessions)}')\n",
        "\n",
        "# query insertions endpoint\n",
        "insertions = one.search_insertions(atlas_acronym=brain_acronym)\n",
        "print(f'No. of detected insertions: {len(insertions)}')"
      ],
      "metadata": {
        "colab": {
          "base_uri": "https://localhost:8080/"
        },
        "id": "R_NT5Mh8Oia5",
        "outputId": "ddc48bd2-4626-49e1-9084-f87b2ccafbca"
      },
      "execution_count": null,
      "outputs": [
        {
          "output_type": "stream",
          "name": "stdout",
          "text": [
            "No. of detected sessions: 62\n",
            "No. of detected insertions: 62\n"
          ]
        }
      ]
    },
    {
      "cell_type": "code",
      "source": [
        "eid = sessions[0]\n",
        "from pprint import pprint\n",
        "datasets = one.list_datasets(eid)\n",
        "pprint(datasets)"
      ],
      "metadata": {
        "colab": {
          "base_uri": "https://localhost:8080/"
        },
        "collapsed": true,
        "id": "aD6FdacjYUlS",
        "outputId": "cf504758-ee2c-470b-84b7-3c7f42d1f897"
      },
      "execution_count": null,
      "outputs": [
        {
          "output_type": "stream",
          "name": "stdout",
          "text": [
            "['alf/#2024-05-06#/_ibl_wheel.position.npy',\n",
            " 'alf/#2024-05-06#/_ibl_wheelMoves.peakAmplitude.npy',\n",
            " 'alf/_ibl_bodyCamera.dlc.pqt',\n",
            " 'alf/_ibl_bodyCamera.times.npy',\n",
            " 'alf/_ibl_leftCamera.dlc.pqt',\n",
            " 'alf/_ibl_leftCamera.features.pqt',\n",
            " 'alf/_ibl_leftCamera.times.npy',\n",
            " 'alf/_ibl_passiveGabor.table.csv',\n",
            " 'alf/_ibl_passivePeriods.intervalsTable.csv',\n",
            " 'alf/_ibl_passiveRFM.times.npy',\n",
            " 'alf/_ibl_passiveStims.table.csv',\n",
            " 'alf/_ibl_rightCamera.dlc.pqt',\n",
            " 'alf/_ibl_rightCamera.features.pqt',\n",
            " 'alf/_ibl_rightCamera.times.npy',\n",
            " 'alf/_ibl_trials.goCueTrigger_times.npy',\n",
            " 'alf/_ibl_trials.stimOff_times.npy',\n",
            " 'alf/_ibl_trials.table.pqt',\n",
            " 'alf/_ibl_wheel.timestamps.npy',\n",
            " 'alf/_ibl_wheelMoves.intervals.npy',\n",
            " 'alf/bodyCamera.ROIMotionEnergy.npy',\n",
            " 'alf/bodyROIMotionEnergy.position.npy',\n",
            " 'alf/leftCamera.ROIMotionEnergy.npy',\n",
            " 'alf/leftROIMotionEnergy.position.npy',\n",
            " 'alf/licks.times.npy',\n",
            " 'alf/probe00/electrodeSites.brainLocationIds_ccf_2017.npy',\n",
            " 'alf/probe00/electrodeSites.localCoordinates.npy',\n",
            " 'alf/probe00/electrodeSites.mlapdv.npy',\n",
            " 'alf/probe00/pykilosort/#2024-05-06#/_ibl_log.info_pykilosort.log',\n",
            " 'alf/probe00/pykilosort/#2024-05-06#/_kilosort_whitening.matrix.npy',\n",
            " 'alf/probe00/pykilosort/#2024-05-06#/_phy_spikes_subset.channels.npy',\n",
            " 'alf/probe00/pykilosort/#2024-05-06#/_phy_spikes_subset.spikes.npy',\n",
            " 'alf/probe00/pykilosort/#2024-05-06#/_phy_spikes_subset.waveforms.npy',\n",
            " 'alf/probe00/pykilosort/#2024-05-06#/channels.brainLocationIds_ccf_2017.npy',\n",
            " 'alf/probe00/pykilosort/#2024-05-06#/channels.labels.npy',\n",
            " 'alf/probe00/pykilosort/#2024-05-06#/channels.localCoordinates.npy',\n",
            " 'alf/probe00/pykilosort/#2024-05-06#/channels.mlapdv.npy',\n",
            " 'alf/probe00/pykilosort/#2024-05-06#/channels.rawInd.npy',\n",
            " 'alf/probe00/pykilosort/#2024-05-06#/clusters.amps.npy',\n",
            " 'alf/probe00/pykilosort/#2024-05-06#/clusters.channels.npy',\n",
            " 'alf/probe00/pykilosort/#2024-05-06#/clusters.depths.npy',\n",
            " 'alf/probe00/pykilosort/#2024-05-06#/clusters.metrics.pqt',\n",
            " 'alf/probe00/pykilosort/#2024-05-06#/clusters.peakToTrough.npy',\n",
            " 'alf/probe00/pykilosort/#2024-05-06#/clusters.uuids.csv',\n",
            " 'alf/probe00/pykilosort/#2024-05-06#/clusters.waveforms.npy',\n",
            " 'alf/probe00/pykilosort/#2024-05-06#/clusters.waveformsChannels.npy',\n",
            " 'alf/probe00/pykilosort/#2024-05-06#/drift.times.npy',\n",
            " 'alf/probe00/pykilosort/#2024-05-06#/drift.um.npy',\n",
            " 'alf/probe00/pykilosort/#2024-05-06#/drift_depths.um.npy',\n",
            " 'alf/probe00/pykilosort/#2024-05-06#/passingSpikes.table.pqt',\n",
            " 'alf/probe00/pykilosort/#2024-05-06#/spikes.amps.npy',\n",
            " 'alf/probe00/pykilosort/#2024-05-06#/spikes.clusters.npy',\n",
            " 'alf/probe00/pykilosort/#2024-05-06#/spikes.depths.npy',\n",
            " 'alf/probe00/pykilosort/#2024-05-06#/spikes.samples.npy',\n",
            " 'alf/probe00/pykilosort/#2024-05-06#/spikes.templates.npy',\n",
            " 'alf/probe00/pykilosort/#2024-05-06#/spikes.times.npy',\n",
            " 'alf/probe00/pykilosort/#2024-05-06#/templates.amps.npy',\n",
            " 'alf/probe00/pykilosort/#2024-05-06#/templates.waveforms.npy',\n",
            " 'alf/probe00/pykilosort/#2024-05-06#/templates.waveformsChannels.npy',\n",
            " 'alf/probe00/pykilosort/#2024-05-06#/waveforms.channels.npz',\n",
            " 'alf/probe00/pykilosort/#2024-05-06#/waveforms.table.pqt',\n",
            " 'alf/probe00/pykilosort/#2024-05-06#/waveforms.templates.npy',\n",
            " 'alf/probe00/pykilosort/#2024-05-06#/waveforms.traces.npy',\n",
            " 'alf/probe00/pykilosort/_ibl_log.info_pykilosort.log',\n",
            " 'alf/probe00/pykilosort/_kilosort_whitening.matrix.npy',\n",
            " 'alf/probe00/pykilosort/_phy_spikes_subset.channels.npy',\n",
            " 'alf/probe00/pykilosort/_phy_spikes_subset.spikes.npy',\n",
            " 'alf/probe00/pykilosort/_phy_spikes_subset.waveforms.npy',\n",
            " 'alf/probe00/pykilosort/channels.brainLocationIds_ccf_2017.npy',\n",
            " 'alf/probe00/pykilosort/channels.localCoordinates.npy',\n",
            " 'alf/probe00/pykilosort/channels.mlapdv.npy',\n",
            " 'alf/probe00/pykilosort/channels.rawInd.npy',\n",
            " 'alf/probe00/pykilosort/clusters.amps.npy',\n",
            " 'alf/probe00/pykilosort/clusters.channels.npy',\n",
            " 'alf/probe00/pykilosort/clusters.depths.npy',\n",
            " 'alf/probe00/pykilosort/clusters.metrics.pqt',\n",
            " 'alf/probe00/pykilosort/clusters.peakToTrough.npy',\n",
            " 'alf/probe00/pykilosort/clusters.uuids.csv',\n",
            " 'alf/probe00/pykilosort/clusters.waveforms.npy',\n",
            " 'alf/probe00/pykilosort/clusters.waveformsChannels.npy',\n",
            " 'alf/probe00/pykilosort/drift.times.npy',\n",
            " 'alf/probe00/pykilosort/drift.um.npy',\n",
            " 'alf/probe00/pykilosort/drift_depths.um.npy',\n",
            " 'alf/probe00/pykilosort/spikes.amps.npy',\n",
            " 'alf/probe00/pykilosort/spikes.clusters.npy',\n",
            " 'alf/probe00/pykilosort/spikes.depths.npy',\n",
            " 'alf/probe00/pykilosort/spikes.samples.npy',\n",
            " 'alf/probe00/pykilosort/spikes.templates.npy',\n",
            " 'alf/probe00/pykilosort/spikes.times.npy',\n",
            " 'alf/probe00/pykilosort/templates.amps.npy',\n",
            " 'alf/probe00/pykilosort/templates.waveforms.npy',\n",
            " 'alf/probe00/pykilosort/templates.waveformsChannels.npy',\n",
            " 'alf/probes.description.json',\n",
            " 'alf/rightCamera.ROIMotionEnergy.npy',\n",
            " 'alf/rightROIMotionEnergy.position.npy',\n",
            " 'raw_ephys_data/_spikeglx_ephysData_g0_t0.nidq.cbin',\n",
            " 'raw_ephys_data/_spikeglx_ephysData_g0_t0.nidq.ch',\n",
            " 'raw_ephys_data/_spikeglx_ephysData_g0_t0.nidq.meta',\n",
            " 'raw_ephys_data/_spikeglx_ephysData_g0_t0.nidq.wiring.json',\n",
            " 'raw_ephys_data/_spikeglx_sync.channels.npy',\n",
            " 'raw_ephys_data/_spikeglx_sync.polarities.npy',\n",
            " 'raw_ephys_data/_spikeglx_sync.times.npy',\n",
            " 'raw_ephys_data/probe00/_iblqc_ephysChannels.apRMS.npy',\n",
            " 'raw_ephys_data/probe00/_iblqc_ephysChannels.labels.npy',\n",
            " 'raw_ephys_data/probe00/_iblqc_ephysChannels.rawSpikeRates.npy',\n",
            " 'raw_ephys_data/probe00/_iblqc_ephysSpectralDensityAP.freqs.npy',\n",
            " 'raw_ephys_data/probe00/_iblqc_ephysSpectralDensityAP.power.npy',\n",
            " 'raw_ephys_data/probe00/_iblqc_ephysSpectralDensityLF.freqs.npy',\n",
            " 'raw_ephys_data/probe00/_iblqc_ephysSpectralDensityLF.power.npy',\n",
            " 'raw_ephys_data/probe00/_iblqc_ephysTimeRmsLF.rms.npy',\n",
            " 'raw_ephys_data/probe00/_iblqc_ephysTimeRmsLF.timestamps.npy',\n",
            " 'raw_ephys_data/probe00/_spikeglx_ephysData_g0_t0.imec0.ap.cbin',\n",
            " 'raw_ephys_data/probe00/_spikeglx_ephysData_g0_t0.imec0.ap.ch',\n",
            " 'raw_ephys_data/probe00/_spikeglx_ephysData_g0_t0.imec0.ap.meta',\n",
            " 'raw_ephys_data/probe00/_spikeglx_ephysData_g0_t0.imec0.lf.cbin',\n",
            " 'raw_ephys_data/probe00/_spikeglx_ephysData_g0_t0.imec0.lf.ch',\n",
            " 'raw_ephys_data/probe00/_spikeglx_ephysData_g0_t0.imec0.lf.meta',\n",
            " 'raw_ephys_data/probe00/_spikeglx_ephysData_g0_t0.imec0.sync.npy',\n",
            " 'raw_ephys_data/probe00/_spikeglx_ephysData_g0_t0.imec0.timestamps.npy',\n",
            " 'raw_ephys_data/probe00/_spikeglx_ephysData_g0_t0.imec0.wiring.json',\n",
            " 'raw_ephys_data/probe00/_spikeglx_sync.channels.probe00.npy',\n",
            " 'raw_ephys_data/probe00/_spikeglx_sync.polarities.probe00.npy',\n",
            " 'raw_ephys_data/probe00/_spikeglx_sync.times.probe00.npy',\n",
            " 'raw_passive_data/_iblrig_RFMapStim.raw.bin',\n",
            " 'raw_video_data/_iblrig_bodyCamera.raw.mp4',\n",
            " 'raw_video_data/_iblrig_leftCamera.raw.mp4',\n",
            " 'raw_video_data/_iblrig_rightCamera.raw.mp4']\n"
          ]
        }
      ]
    },
    {
      "cell_type": "code",
      "source": [
        "# Your session EIDs from insertions\n",
        "session_eids = sessions\n",
        "\n",
        "# Substrings you need somewhere in the dataset path\n",
        "required = [\n",
        "  '_ibl_trials.table.pqt',\n",
        "  'spikes.times.npy',\n",
        "  'spikes.clusters.npy',\n",
        "  'clusters.uuids.csv'  # if present in this session\n",
        "]\n",
        "\n",
        "usable_eids = []\n",
        "for eid in session_eids:\n",
        "    try:\n",
        "        available = one.list_datasets(eid)  # e.g. ['alf/_ibl_trials.contrastLeft.npy', ...]\n",
        "        # Check that for each required substring, at least one available path contains it\n",
        "        if all(any(sub in ds for ds in available) for sub in required):\n",
        "            usable_eids.append(eid)\n",
        "    except Exception:\n",
        "        continue\n",
        "\n",
        "print(f\"Found {len(usable_eids)} sessions with all required datasets.\")"
      ],
      "metadata": {
        "colab": {
          "base_uri": "https://localhost:8080/"
        },
        "id": "Qp8VLx25aHH6",
        "outputId": "86aa0543-093e-4f88-d23a-32a4bcaccd70"
      },
      "execution_count": null,
      "outputs": [
        {
          "output_type": "stream",
          "name": "stdout",
          "text": [
            "Found 62 sessions with all required datasets.\n"
          ]
        }
      ]
    },
    {
      "cell_type": "code",
      "source": [
        "eid = usable_eids[0]  # start with the first usable session\n",
        "print(\"Decoding session:\", eid)\n",
        "import pandas as pd\n",
        "\n",
        "trials = one.load_object(eid, 'trials')\n",
        "\n",
        "print(\"Total trials:\", len(trials[\"probabilityLeft\"]))\n",
        "print(\"Atrributes of trials:\", trials.keys())"
      ],
      "metadata": {
        "colab": {
          "base_uri": "https://localhost:8080/"
        },
        "id": "hYpOd-rXaHRz",
        "outputId": "7260bc77-a682-4de9-e8b1-11af8177fc67"
      },
      "execution_count": null,
      "outputs": [
        {
          "output_type": "stream",
          "name": "stdout",
          "text": [
            "Decoding session: cef05f87-161b-4031-932c-6f47daf89698\n"
          ]
        },
        {
          "output_type": "stream",
          "name": "stderr",
          "text": [
            "(S3) /root/Downloads/ONE/openalyx.internationalbrainlab.org/hausserlab/Subjects/PL033/2022-10-06/001/alf/_ibl_trials.goCueTrigger_times.npy: 100%|██████████| 4.82k/4.82k [00:00<00:00, 51.1kB/s]\n",
            "(S3) /root/Downloads/ONE/openalyx.internationalbrainlab.org/hausserlab/Subjects/PL033/2022-10-06/001/alf/_ibl_trials.table.pqt: 100%|██████████| 49.0k/49.0k [00:00<00:00, 451kB/s]\n",
            "(S3) /root/Downloads/ONE/openalyx.internationalbrainlab.org/hausserlab/Subjects/PL033/2022-10-06/001/alf/_ibl_trials.stimOff_times.npy: 100%|██████████| 4.82k/4.82k [00:00<00:00, 61.9kB/s]\n"
          ]
        },
        {
          "output_type": "stream",
          "name": "stdout",
          "text": [
            "Total trials: 586\n",
            "Atrributes of trials: dict_keys(['goCueTrigger_times', 'stimOff_times', 'goCue_times', 'response_times', 'choice', 'stimOn_times', 'contrastLeft', 'contrastRight', 'probabilityLeft', 'feedback_times', 'feedbackType', 'rewardVolume', 'firstMovement_times', 'intervals'])\n"
          ]
        }
      ]
    },
    {
      "cell_type": "code",
      "source": [
        "for k, v in trials.items():\n",
        "  print(k, v.shape)"
      ],
      "metadata": {
        "colab": {
          "base_uri": "https://localhost:8080/"
        },
        "id": "OH4NhmKPm9g8",
        "outputId": "95b2efd5-3bc9-48f5-90da-1720a54ea9dc"
      },
      "execution_count": null,
      "outputs": [
        {
          "output_type": "stream",
          "name": "stdout",
          "text": [
            "goCueTrigger_times (586,)\n",
            "stimOff_times (586,)\n",
            "goCue_times (586,)\n",
            "response_times (586,)\n",
            "choice (586,)\n",
            "stimOn_times (586,)\n",
            "contrastLeft (586,)\n",
            "contrastRight (586,)\n",
            "probabilityLeft (586,)\n",
            "feedback_times (586,)\n",
            "feedbackType (586,)\n",
            "rewardVolume (586,)\n",
            "firstMovement_times (586,)\n",
            "intervals (586, 2)\n"
          ]
        }
      ]
    },
    {
      "cell_type": "code",
      "source": [
        "intervals = trials['intervals']\n",
        "print(intervals)"
      ],
      "metadata": {
        "colab": {
          "base_uri": "https://localhost:8080/"
        },
        "id": "-yUtyQ1AjqR8",
        "outputId": "13a9a0b7-a2e2-477e-bf09-aa48df4e4128"
      },
      "execution_count": null,
      "outputs": [
        {
          "output_type": "stream",
          "name": "stdout",
          "text": [
            "[[  64.97456856   67.50346127]\n",
            " [  68.08865712   70.83336054]\n",
            " [  71.40445884   73.69994492]\n",
            " ...\n",
            " [2754.46772568 2756.82412226]\n",
            " [2757.87921783 2760.26062109]\n",
            " [2760.86311941 2785.17353429]]\n"
          ]
        }
      ]
    },
    {
      "cell_type": "code",
      "source": [
        "trials['interval 1'] = intervals[:,0]\n",
        "trials['interval 2'] = intervals[:,1]\n",
        "del trials['intervals']\n",
        "data = pd.DataFrame(trials)\n",
        "data.head()"
      ],
      "metadata": {
        "colab": {
          "base_uri": "https://localhost:8080/",
          "height": 243
        },
        "id": "vjy-lvcTkNq2",
        "outputId": "6be103f1-ab72-4a0e-c688-9581c86b14fe"
      },
      "execution_count": null,
      "outputs": [
        {
          "output_type": "execute_result",
          "data": {
            "text/plain": [
              "   goCueTrigger_times  stimOff_times  goCue_times  response_times  choice  \\\n",
              "0           65.669766      67.003366    65.670599       65.955465    -1.0   \n",
              "1           68.883458      70.333299    68.884211       69.283658     1.0   \n",
              "2           71.886755      73.199946    71.887511       72.159554    -1.0   \n",
              "3           74.736940      76.469719    74.738125       75.430042    -1.0   \n",
              "4           79.066452      80.286637    79.067359       79.234052    -1.0   \n",
              "\n",
              "   stimOn_times  contrastLeft  contrastRight  probabilityLeft  feedback_times  \\\n",
              "0     65.750024           NaN          1.000              0.5       65.955570   \n",
              "1     68.883344          0.25            NaN              0.5       69.283771   \n",
              "2     71.886577           NaN          0.250              0.5       72.159650   \n",
              "3     74.736792           NaN          0.125              0.5       75.430156   \n",
              "4     79.066259           NaN          0.250              0.5       79.234142   \n",
              "\n",
              "   feedbackType  rewardVolume  firstMovement_times  interval 1  interval 2  \n",
              "0           1.0           1.5            65.813431   64.974569   67.503461  \n",
              "1           1.0           1.5            69.084431   68.088657   70.833361  \n",
              "2           1.0           1.5            71.980431   71.404459   73.699945  \n",
              "3           1.0           1.5            74.982431   74.269539   76.969748  \n",
              "4           1.0           1.5            78.882431   77.521547   80.786659  "
            ],
            "text/html": [
              "\n",
              "  <div id=\"df-270a8bfc-12a2-4599-bfce-aef78b3ee3b0\" class=\"colab-df-container\">\n",
              "    <div>\n",
              "<style scoped>\n",
              "    .dataframe tbody tr th:only-of-type {\n",
              "        vertical-align: middle;\n",
              "    }\n",
              "\n",
              "    .dataframe tbody tr th {\n",
              "        vertical-align: top;\n",
              "    }\n",
              "\n",
              "    .dataframe thead th {\n",
              "        text-align: right;\n",
              "    }\n",
              "</style>\n",
              "<table border=\"1\" class=\"dataframe\">\n",
              "  <thead>\n",
              "    <tr style=\"text-align: right;\">\n",
              "      <th></th>\n",
              "      <th>goCueTrigger_times</th>\n",
              "      <th>stimOff_times</th>\n",
              "      <th>goCue_times</th>\n",
              "      <th>response_times</th>\n",
              "      <th>choice</th>\n",
              "      <th>stimOn_times</th>\n",
              "      <th>contrastLeft</th>\n",
              "      <th>contrastRight</th>\n",
              "      <th>probabilityLeft</th>\n",
              "      <th>feedback_times</th>\n",
              "      <th>feedbackType</th>\n",
              "      <th>rewardVolume</th>\n",
              "      <th>firstMovement_times</th>\n",
              "      <th>interval 1</th>\n",
              "      <th>interval 2</th>\n",
              "    </tr>\n",
              "  </thead>\n",
              "  <tbody>\n",
              "    <tr>\n",
              "      <th>0</th>\n",
              "      <td>65.669766</td>\n",
              "      <td>67.003366</td>\n",
              "      <td>65.670599</td>\n",
              "      <td>65.955465</td>\n",
              "      <td>-1.0</td>\n",
              "      <td>65.750024</td>\n",
              "      <td>NaN</td>\n",
              "      <td>1.000</td>\n",
              "      <td>0.5</td>\n",
              "      <td>65.955570</td>\n",
              "      <td>1.0</td>\n",
              "      <td>1.5</td>\n",
              "      <td>65.813431</td>\n",
              "      <td>64.974569</td>\n",
              "      <td>67.503461</td>\n",
              "    </tr>\n",
              "    <tr>\n",
              "      <th>1</th>\n",
              "      <td>68.883458</td>\n",
              "      <td>70.333299</td>\n",
              "      <td>68.884211</td>\n",
              "      <td>69.283658</td>\n",
              "      <td>1.0</td>\n",
              "      <td>68.883344</td>\n",
              "      <td>0.25</td>\n",
              "      <td>NaN</td>\n",
              "      <td>0.5</td>\n",
              "      <td>69.283771</td>\n",
              "      <td>1.0</td>\n",
              "      <td>1.5</td>\n",
              "      <td>69.084431</td>\n",
              "      <td>68.088657</td>\n",
              "      <td>70.833361</td>\n",
              "    </tr>\n",
              "    <tr>\n",
              "      <th>2</th>\n",
              "      <td>71.886755</td>\n",
              "      <td>73.199946</td>\n",
              "      <td>71.887511</td>\n",
              "      <td>72.159554</td>\n",
              "      <td>-1.0</td>\n",
              "      <td>71.886577</td>\n",
              "      <td>NaN</td>\n",
              "      <td>0.250</td>\n",
              "      <td>0.5</td>\n",
              "      <td>72.159650</td>\n",
              "      <td>1.0</td>\n",
              "      <td>1.5</td>\n",
              "      <td>71.980431</td>\n",
              "      <td>71.404459</td>\n",
              "      <td>73.699945</td>\n",
              "    </tr>\n",
              "    <tr>\n",
              "      <th>3</th>\n",
              "      <td>74.736940</td>\n",
              "      <td>76.469719</td>\n",
              "      <td>74.738125</td>\n",
              "      <td>75.430042</td>\n",
              "      <td>-1.0</td>\n",
              "      <td>74.736792</td>\n",
              "      <td>NaN</td>\n",
              "      <td>0.125</td>\n",
              "      <td>0.5</td>\n",
              "      <td>75.430156</td>\n",
              "      <td>1.0</td>\n",
              "      <td>1.5</td>\n",
              "      <td>74.982431</td>\n",
              "      <td>74.269539</td>\n",
              "      <td>76.969748</td>\n",
              "    </tr>\n",
              "    <tr>\n",
              "      <th>4</th>\n",
              "      <td>79.066452</td>\n",
              "      <td>80.286637</td>\n",
              "      <td>79.067359</td>\n",
              "      <td>79.234052</td>\n",
              "      <td>-1.0</td>\n",
              "      <td>79.066259</td>\n",
              "      <td>NaN</td>\n",
              "      <td>0.250</td>\n",
              "      <td>0.5</td>\n",
              "      <td>79.234142</td>\n",
              "      <td>1.0</td>\n",
              "      <td>1.5</td>\n",
              "      <td>78.882431</td>\n",
              "      <td>77.521547</td>\n",
              "      <td>80.786659</td>\n",
              "    </tr>\n",
              "  </tbody>\n",
              "</table>\n",
              "</div>\n",
              "    <div class=\"colab-df-buttons\">\n",
              "\n",
              "  <div class=\"colab-df-container\">\n",
              "    <button class=\"colab-df-convert\" onclick=\"convertToInteractive('df-270a8bfc-12a2-4599-bfce-aef78b3ee3b0')\"\n",
              "            title=\"Convert this dataframe to an interactive table.\"\n",
              "            style=\"display:none;\">\n",
              "\n",
              "  <svg xmlns=\"http://www.w3.org/2000/svg\" height=\"24px\" viewBox=\"0 -960 960 960\">\n",
              "    <path d=\"M120-120v-720h720v720H120Zm60-500h600v-160H180v160Zm220 220h160v-160H400v160Zm0 220h160v-160H400v160ZM180-400h160v-160H180v160Zm440 0h160v-160H620v160ZM180-180h160v-160H180v160Zm440 0h160v-160H620v160Z\"/>\n",
              "  </svg>\n",
              "    </button>\n",
              "\n",
              "  <style>\n",
              "    .colab-df-container {\n",
              "      display:flex;\n",
              "      gap: 12px;\n",
              "    }\n",
              "\n",
              "    .colab-df-convert {\n",
              "      background-color: #E8F0FE;\n",
              "      border: none;\n",
              "      border-radius: 50%;\n",
              "      cursor: pointer;\n",
              "      display: none;\n",
              "      fill: #1967D2;\n",
              "      height: 32px;\n",
              "      padding: 0 0 0 0;\n",
              "      width: 32px;\n",
              "    }\n",
              "\n",
              "    .colab-df-convert:hover {\n",
              "      background-color: #E2EBFA;\n",
              "      box-shadow: 0px 1px 2px rgba(60, 64, 67, 0.3), 0px 1px 3px 1px rgba(60, 64, 67, 0.15);\n",
              "      fill: #174EA6;\n",
              "    }\n",
              "\n",
              "    .colab-df-buttons div {\n",
              "      margin-bottom: 4px;\n",
              "    }\n",
              "\n",
              "    [theme=dark] .colab-df-convert {\n",
              "      background-color: #3B4455;\n",
              "      fill: #D2E3FC;\n",
              "    }\n",
              "\n",
              "    [theme=dark] .colab-df-convert:hover {\n",
              "      background-color: #434B5C;\n",
              "      box-shadow: 0px 1px 3px 1px rgba(0, 0, 0, 0.15);\n",
              "      filter: drop-shadow(0px 1px 2px rgba(0, 0, 0, 0.3));\n",
              "      fill: #FFFFFF;\n",
              "    }\n",
              "  </style>\n",
              "\n",
              "    <script>\n",
              "      const buttonEl =\n",
              "        document.querySelector('#df-270a8bfc-12a2-4599-bfce-aef78b3ee3b0 button.colab-df-convert');\n",
              "      buttonEl.style.display =\n",
              "        google.colab.kernel.accessAllowed ? 'block' : 'none';\n",
              "\n",
              "      async function convertToInteractive(key) {\n",
              "        const element = document.querySelector('#df-270a8bfc-12a2-4599-bfce-aef78b3ee3b0');\n",
              "        const dataTable =\n",
              "          await google.colab.kernel.invokeFunction('convertToInteractive',\n",
              "                                                    [key], {});\n",
              "        if (!dataTable) return;\n",
              "\n",
              "        const docLinkHtml = 'Like what you see? Visit the ' +\n",
              "          '<a target=\"_blank\" href=https://colab.research.google.com/notebooks/data_table.ipynb>data table notebook</a>'\n",
              "          + ' to learn more about interactive tables.';\n",
              "        element.innerHTML = '';\n",
              "        dataTable['output_type'] = 'display_data';\n",
              "        await google.colab.output.renderOutput(dataTable, element);\n",
              "        const docLink = document.createElement('div');\n",
              "        docLink.innerHTML = docLinkHtml;\n",
              "        element.appendChild(docLink);\n",
              "      }\n",
              "    </script>\n",
              "  </div>\n",
              "\n",
              "\n",
              "    <div id=\"df-f7452de8-8840-4c29-8fa3-75ab9261493f\">\n",
              "      <button class=\"colab-df-quickchart\" onclick=\"quickchart('df-f7452de8-8840-4c29-8fa3-75ab9261493f')\"\n",
              "                title=\"Suggest charts\"\n",
              "                style=\"display:none;\">\n",
              "\n",
              "<svg xmlns=\"http://www.w3.org/2000/svg\" height=\"24px\"viewBox=\"0 0 24 24\"\n",
              "     width=\"24px\">\n",
              "    <g>\n",
              "        <path d=\"M19 3H5c-1.1 0-2 .9-2 2v14c0 1.1.9 2 2 2h14c1.1 0 2-.9 2-2V5c0-1.1-.9-2-2-2zM9 17H7v-7h2v7zm4 0h-2V7h2v10zm4 0h-2v-4h2v4z\"/>\n",
              "    </g>\n",
              "</svg>\n",
              "      </button>\n",
              "\n",
              "<style>\n",
              "  .colab-df-quickchart {\n",
              "      --bg-color: #E8F0FE;\n",
              "      --fill-color: #1967D2;\n",
              "      --hover-bg-color: #E2EBFA;\n",
              "      --hover-fill-color: #174EA6;\n",
              "      --disabled-fill-color: #AAA;\n",
              "      --disabled-bg-color: #DDD;\n",
              "  }\n",
              "\n",
              "  [theme=dark] .colab-df-quickchart {\n",
              "      --bg-color: #3B4455;\n",
              "      --fill-color: #D2E3FC;\n",
              "      --hover-bg-color: #434B5C;\n",
              "      --hover-fill-color: #FFFFFF;\n",
              "      --disabled-bg-color: #3B4455;\n",
              "      --disabled-fill-color: #666;\n",
              "  }\n",
              "\n",
              "  .colab-df-quickchart {\n",
              "    background-color: var(--bg-color);\n",
              "    border: none;\n",
              "    border-radius: 50%;\n",
              "    cursor: pointer;\n",
              "    display: none;\n",
              "    fill: var(--fill-color);\n",
              "    height: 32px;\n",
              "    padding: 0;\n",
              "    width: 32px;\n",
              "  }\n",
              "\n",
              "  .colab-df-quickchart:hover {\n",
              "    background-color: var(--hover-bg-color);\n",
              "    box-shadow: 0 1px 2px rgba(60, 64, 67, 0.3), 0 1px 3px 1px rgba(60, 64, 67, 0.15);\n",
              "    fill: var(--button-hover-fill-color);\n",
              "  }\n",
              "\n",
              "  .colab-df-quickchart-complete:disabled,\n",
              "  .colab-df-quickchart-complete:disabled:hover {\n",
              "    background-color: var(--disabled-bg-color);\n",
              "    fill: var(--disabled-fill-color);\n",
              "    box-shadow: none;\n",
              "  }\n",
              "\n",
              "  .colab-df-spinner {\n",
              "    border: 2px solid var(--fill-color);\n",
              "    border-color: transparent;\n",
              "    border-bottom-color: var(--fill-color);\n",
              "    animation:\n",
              "      spin 1s steps(1) infinite;\n",
              "  }\n",
              "\n",
              "  @keyframes spin {\n",
              "    0% {\n",
              "      border-color: transparent;\n",
              "      border-bottom-color: var(--fill-color);\n",
              "      border-left-color: var(--fill-color);\n",
              "    }\n",
              "    20% {\n",
              "      border-color: transparent;\n",
              "      border-left-color: var(--fill-color);\n",
              "      border-top-color: var(--fill-color);\n",
              "    }\n",
              "    30% {\n",
              "      border-color: transparent;\n",
              "      border-left-color: var(--fill-color);\n",
              "      border-top-color: var(--fill-color);\n",
              "      border-right-color: var(--fill-color);\n",
              "    }\n",
              "    40% {\n",
              "      border-color: transparent;\n",
              "      border-right-color: var(--fill-color);\n",
              "      border-top-color: var(--fill-color);\n",
              "    }\n",
              "    60% {\n",
              "      border-color: transparent;\n",
              "      border-right-color: var(--fill-color);\n",
              "    }\n",
              "    80% {\n",
              "      border-color: transparent;\n",
              "      border-right-color: var(--fill-color);\n",
              "      border-bottom-color: var(--fill-color);\n",
              "    }\n",
              "    90% {\n",
              "      border-color: transparent;\n",
              "      border-bottom-color: var(--fill-color);\n",
              "    }\n",
              "  }\n",
              "</style>\n",
              "\n",
              "      <script>\n",
              "        async function quickchart(key) {\n",
              "          const quickchartButtonEl =\n",
              "            document.querySelector('#' + key + ' button');\n",
              "          quickchartButtonEl.disabled = true;  // To prevent multiple clicks.\n",
              "          quickchartButtonEl.classList.add('colab-df-spinner');\n",
              "          try {\n",
              "            const charts = await google.colab.kernel.invokeFunction(\n",
              "                'suggestCharts', [key], {});\n",
              "          } catch (error) {\n",
              "            console.error('Error during call to suggestCharts:', error);\n",
              "          }\n",
              "          quickchartButtonEl.classList.remove('colab-df-spinner');\n",
              "          quickchartButtonEl.classList.add('colab-df-quickchart-complete');\n",
              "        }\n",
              "        (() => {\n",
              "          let quickchartButtonEl =\n",
              "            document.querySelector('#df-f7452de8-8840-4c29-8fa3-75ab9261493f button');\n",
              "          quickchartButtonEl.style.display =\n",
              "            google.colab.kernel.accessAllowed ? 'block' : 'none';\n",
              "        })();\n",
              "      </script>\n",
              "    </div>\n",
              "\n",
              "    </div>\n",
              "  </div>\n"
            ],
            "application/vnd.google.colaboratory.intrinsic+json": {
              "type": "dataframe",
              "variable_name": "data",
              "summary": "{\n  \"name\": \"data\",\n  \"rows\": 586,\n  \"fields\": [\n    {\n      \"column\": \"goCueTrigger_times\",\n      \"properties\": {\n        \"dtype\": \"number\",\n        \"std\": 758.6638321414307,\n        \"min\": 65.66976600616952,\n        \"max\": 2761.873919947989,\n        \"num_unique_values\": 586,\n        \"samples\": [\n          2366.332762316294,\n          1329.9389047703228,\n          2338.720058174076\n        ],\n        \"semantic_type\": \"\",\n        \"description\": \"\"\n      }\n    },\n    {\n      \"column\": \"stimOff_times\",\n      \"properties\": {\n        \"dtype\": \"number\",\n        \"std\": 765.218587483955,\n        \"min\": 67.003365660067,\n        \"max\": 4086.2809977040865,\n        \"num_unique_values\": 586,\n        \"samples\": [\n          2367.8326597223677,\n          1331.3388528013313,\n          2340.0532379423403\n        ],\n        \"semantic_type\": \"\",\n        \"description\": \"\"\n      }\n    },\n    {\n      \"column\": \"goCue_times\",\n      \"properties\": {\n        \"dtype\": \"number\",\n        \"std\": 758.6638256848626,\n        \"min\": 65.67059895006567,\n        \"max\": 2761.874651582762,\n        \"num_unique_values\": 586,\n        \"samples\": [\n          2366.333442992366,\n          1329.93962607133,\n          2338.720904522339\n        ],\n        \"semantic_type\": \"\",\n        \"description\": \"\"\n      }\n    },\n    {\n      \"column\": \"response_times\",\n      \"properties\": {\n        \"dtype\": \"number\",\n        \"std\": 759.1715376862785,\n        \"min\": 65.95546495661841,\n        \"max\": 2783.6192314623318,\n        \"num_unique_values\": 586,\n        \"samples\": [\n          2366.7655602054765,\n          1330.2823051839325,\n          2338.9822584719905\n        ],\n        \"semantic_type\": \"\",\n        \"description\": \"\"\n      }\n    },\n    {\n      \"column\": \"choice\",\n      \"properties\": {\n        \"dtype\": \"number\",\n        \"std\": 0.9914838213622568,\n        \"min\": -1.0,\n        \"max\": 1.0,\n        \"num_unique_values\": 2,\n        \"samples\": [\n          1.0,\n          -1.0\n        ],\n        \"semantic_type\": \"\",\n        \"description\": \"\"\n      }\n    },\n    {\n      \"column\": \"stimOn_times\",\n      \"properties\": {\n        \"dtype\": \"number\",\n        \"std\": 758.6635959574606,\n        \"min\": 65.75002434006575,\n        \"max\": 2761.873751672762,\n        \"num_unique_values\": 586,\n        \"samples\": [\n          2366.3326430723664,\n          1329.9387594913298\n        ],\n        \"semantic_type\": \"\",\n        \"description\": \"\"\n      }\n    },\n    {\n      \"column\": \"contrastLeft\",\n      \"properties\": {\n        \"dtype\": \"number\",\n        \"std\": 0.3768235195351503,\n        \"min\": 0.0,\n        \"max\": 1.0,\n        \"num_unique_values\": 5,\n        \"samples\": [\n          0.0625,\n          0.0\n        ],\n        \"semantic_type\": \"\",\n        \"description\": \"\"\n      }\n    },\n    {\n      \"column\": \"contrastRight\",\n      \"properties\": {\n        \"dtype\": \"number\",\n        \"std\": 0.3696231127167035,\n        \"min\": 0.0,\n        \"max\": 1.0,\n        \"num_unique_values\": 5,\n        \"samples\": [\n          0.25,\n          0.0625\n        ],\n        \"semantic_type\": \"\",\n        \"description\": \"\"\n      }\n    },\n    {\n      \"column\": \"probabilityLeft\",\n      \"properties\": {\n        \"dtype\": \"number\",\n        \"std\": 0.275751437607512,\n        \"min\": 0.2,\n        \"max\": 0.8,\n        \"num_unique_values\": 3,\n        \"samples\": [\n          0.5,\n          0.8\n        ],\n        \"semantic_type\": \"\",\n        \"description\": \"\"\n      }\n    },\n    {\n      \"column\": \"feedback_times\",\n      \"properties\": {\n        \"dtype\": \"number\",\n        \"std\": 764.658075681689,\n        \"min\": 65.95557045006596,\n        \"max\": 4086.115247614086,\n        \"num_unique_values\": 584,\n        \"samples\": [\n          1786.1064714917861,\n          1957.087838311957\n        ],\n        \"semantic_type\": \"\",\n        \"description\": \"\"\n      }\n    },\n    {\n      \"column\": \"feedbackType\",\n      \"properties\": {\n        \"dtype\": \"number\",\n        \"std\": 0.6979531848417909,\n        \"min\": -1.0,\n        \"max\": 1.0,\n        \"num_unique_values\": 2,\n        \"samples\": [\n          -1.0,\n          1.0\n        ],\n        \"semantic_type\": \"\",\n        \"description\": \"\"\n      }\n    },\n    {\n      \"column\": \"rewardVolume\",\n      \"properties\": {\n        \"dtype\": \"number\",\n        \"std\": 0.5234648886313452,\n        \"min\": 0.0,\n        \"max\": 1.5,\n        \"num_unique_values\": 2,\n        \"samples\": [\n          0.0,\n          1.5\n        ],\n        \"semantic_type\": \"\",\n        \"description\": \"\"\n      }\n    },\n    {\n      \"column\": \"firstMovement_times\",\n      \"properties\": {\n        \"dtype\": \"number\",\n        \"std\": 758.7014228635109,\n        \"min\": 65.81343089000008,\n        \"max\": 2764.0034308900026,\n        \"num_unique_values\": 581,\n        \"samples\": [\n          2749.1164308900024,\n          1314.5094308900013\n        ],\n        \"semantic_type\": \"\",\n        \"description\": \"\"\n      }\n    },\n    {\n      \"column\": \"interval 1\",\n      \"properties\": {\n        \"dtype\": \"number\",\n        \"std\": 758.8716095313891,\n        \"min\": 64.97456856006498,\n        \"max\": 2760.863119412761,\n        \"num_unique_values\": 586,\n        \"samples\": [\n          2365.7799650123657,\n          1326.5274006613265\n        ],\n        \"semantic_type\": \"\",\n        \"description\": \"\"\n      }\n    },\n    {\n      \"column\": \"interval 2\",\n      \"properties\": {\n        \"dtype\": \"number\",\n        \"std\": 759.1960080452401,\n        \"min\": 67.50346126985882,\n        \"max\": 2785.173534285349,\n        \"num_unique_values\": 586,\n        \"samples\": [\n          2368.332754562045,\n          1331.8389090587889\n        ],\n        \"semantic_type\": \"\",\n        \"description\": \"\"\n      }\n    }\n  ]\n}"
            }
          },
          "metadata": {},
          "execution_count": 10
        }
      ]
    },
    {
      "cell_type": "code",
      "source": [
        "data['trial_id'] = data.index\n",
        "# Reorder to make trial_id first\n",
        "cols = ['trial_id'] + [col for col in data.columns if col != 'trial_id']\n",
        "data = data[cols]\n",
        "data.head()"
      ],
      "metadata": {
        "colab": {
          "base_uri": "https://localhost:8080/",
          "height": 243
        },
        "id": "1eFiqsMutNJ7",
        "outputId": "94f48617-a48f-43e7-b3b8-c1e0b4f221bb"
      },
      "execution_count": null,
      "outputs": [
        {
          "output_type": "execute_result",
          "data": {
            "text/plain": [
              "   trial_id  goCueTrigger_times  stimOff_times  goCue_times  response_times  \\\n",
              "0         0           65.669766      67.003366    65.670599       65.955465   \n",
              "1         1           68.883458      70.333299    68.884211       69.283658   \n",
              "2         2           71.886755      73.199946    71.887511       72.159554   \n",
              "3         3           74.736940      76.469719    74.738125       75.430042   \n",
              "4         4           79.066452      80.286637    79.067359       79.234052   \n",
              "\n",
              "   choice  stimOn_times  contrastLeft  contrastRight  probabilityLeft  \\\n",
              "0    -1.0     65.750024           NaN          1.000              0.5   \n",
              "1     1.0     68.883344          0.25            NaN              0.5   \n",
              "2    -1.0     71.886577           NaN          0.250              0.5   \n",
              "3    -1.0     74.736792           NaN          0.125              0.5   \n",
              "4    -1.0     79.066259           NaN          0.250              0.5   \n",
              "\n",
              "   feedback_times  feedbackType  rewardVolume  firstMovement_times  \\\n",
              "0       65.955570           1.0           1.5            65.813431   \n",
              "1       69.283771           1.0           1.5            69.084431   \n",
              "2       72.159650           1.0           1.5            71.980431   \n",
              "3       75.430156           1.0           1.5            74.982431   \n",
              "4       79.234142           1.0           1.5            78.882431   \n",
              "\n",
              "   interval 1  interval 2  \n",
              "0   64.974569   67.503461  \n",
              "1   68.088657   70.833361  \n",
              "2   71.404459   73.699945  \n",
              "3   74.269539   76.969748  \n",
              "4   77.521547   80.786659  "
            ],
            "text/html": [
              "\n",
              "  <div id=\"df-354def21-4336-4a27-a256-9ef0ca45f738\" class=\"colab-df-container\">\n",
              "    <div>\n",
              "<style scoped>\n",
              "    .dataframe tbody tr th:only-of-type {\n",
              "        vertical-align: middle;\n",
              "    }\n",
              "\n",
              "    .dataframe tbody tr th {\n",
              "        vertical-align: top;\n",
              "    }\n",
              "\n",
              "    .dataframe thead th {\n",
              "        text-align: right;\n",
              "    }\n",
              "</style>\n",
              "<table border=\"1\" class=\"dataframe\">\n",
              "  <thead>\n",
              "    <tr style=\"text-align: right;\">\n",
              "      <th></th>\n",
              "      <th>trial_id</th>\n",
              "      <th>goCueTrigger_times</th>\n",
              "      <th>stimOff_times</th>\n",
              "      <th>goCue_times</th>\n",
              "      <th>response_times</th>\n",
              "      <th>choice</th>\n",
              "      <th>stimOn_times</th>\n",
              "      <th>contrastLeft</th>\n",
              "      <th>contrastRight</th>\n",
              "      <th>probabilityLeft</th>\n",
              "      <th>feedback_times</th>\n",
              "      <th>feedbackType</th>\n",
              "      <th>rewardVolume</th>\n",
              "      <th>firstMovement_times</th>\n",
              "      <th>interval 1</th>\n",
              "      <th>interval 2</th>\n",
              "    </tr>\n",
              "  </thead>\n",
              "  <tbody>\n",
              "    <tr>\n",
              "      <th>0</th>\n",
              "      <td>0</td>\n",
              "      <td>65.669766</td>\n",
              "      <td>67.003366</td>\n",
              "      <td>65.670599</td>\n",
              "      <td>65.955465</td>\n",
              "      <td>-1.0</td>\n",
              "      <td>65.750024</td>\n",
              "      <td>NaN</td>\n",
              "      <td>1.000</td>\n",
              "      <td>0.5</td>\n",
              "      <td>65.955570</td>\n",
              "      <td>1.0</td>\n",
              "      <td>1.5</td>\n",
              "      <td>65.813431</td>\n",
              "      <td>64.974569</td>\n",
              "      <td>67.503461</td>\n",
              "    </tr>\n",
              "    <tr>\n",
              "      <th>1</th>\n",
              "      <td>1</td>\n",
              "      <td>68.883458</td>\n",
              "      <td>70.333299</td>\n",
              "      <td>68.884211</td>\n",
              "      <td>69.283658</td>\n",
              "      <td>1.0</td>\n",
              "      <td>68.883344</td>\n",
              "      <td>0.25</td>\n",
              "      <td>NaN</td>\n",
              "      <td>0.5</td>\n",
              "      <td>69.283771</td>\n",
              "      <td>1.0</td>\n",
              "      <td>1.5</td>\n",
              "      <td>69.084431</td>\n",
              "      <td>68.088657</td>\n",
              "      <td>70.833361</td>\n",
              "    </tr>\n",
              "    <tr>\n",
              "      <th>2</th>\n",
              "      <td>2</td>\n",
              "      <td>71.886755</td>\n",
              "      <td>73.199946</td>\n",
              "      <td>71.887511</td>\n",
              "      <td>72.159554</td>\n",
              "      <td>-1.0</td>\n",
              "      <td>71.886577</td>\n",
              "      <td>NaN</td>\n",
              "      <td>0.250</td>\n",
              "      <td>0.5</td>\n",
              "      <td>72.159650</td>\n",
              "      <td>1.0</td>\n",
              "      <td>1.5</td>\n",
              "      <td>71.980431</td>\n",
              "      <td>71.404459</td>\n",
              "      <td>73.699945</td>\n",
              "    </tr>\n",
              "    <tr>\n",
              "      <th>3</th>\n",
              "      <td>3</td>\n",
              "      <td>74.736940</td>\n",
              "      <td>76.469719</td>\n",
              "      <td>74.738125</td>\n",
              "      <td>75.430042</td>\n",
              "      <td>-1.0</td>\n",
              "      <td>74.736792</td>\n",
              "      <td>NaN</td>\n",
              "      <td>0.125</td>\n",
              "      <td>0.5</td>\n",
              "      <td>75.430156</td>\n",
              "      <td>1.0</td>\n",
              "      <td>1.5</td>\n",
              "      <td>74.982431</td>\n",
              "      <td>74.269539</td>\n",
              "      <td>76.969748</td>\n",
              "    </tr>\n",
              "    <tr>\n",
              "      <th>4</th>\n",
              "      <td>4</td>\n",
              "      <td>79.066452</td>\n",
              "      <td>80.286637</td>\n",
              "      <td>79.067359</td>\n",
              "      <td>79.234052</td>\n",
              "      <td>-1.0</td>\n",
              "      <td>79.066259</td>\n",
              "      <td>NaN</td>\n",
              "      <td>0.250</td>\n",
              "      <td>0.5</td>\n",
              "      <td>79.234142</td>\n",
              "      <td>1.0</td>\n",
              "      <td>1.5</td>\n",
              "      <td>78.882431</td>\n",
              "      <td>77.521547</td>\n",
              "      <td>80.786659</td>\n",
              "    </tr>\n",
              "  </tbody>\n",
              "</table>\n",
              "</div>\n",
              "    <div class=\"colab-df-buttons\">\n",
              "\n",
              "  <div class=\"colab-df-container\">\n",
              "    <button class=\"colab-df-convert\" onclick=\"convertToInteractive('df-354def21-4336-4a27-a256-9ef0ca45f738')\"\n",
              "            title=\"Convert this dataframe to an interactive table.\"\n",
              "            style=\"display:none;\">\n",
              "\n",
              "  <svg xmlns=\"http://www.w3.org/2000/svg\" height=\"24px\" viewBox=\"0 -960 960 960\">\n",
              "    <path d=\"M120-120v-720h720v720H120Zm60-500h600v-160H180v160Zm220 220h160v-160H400v160Zm0 220h160v-160H400v160ZM180-400h160v-160H180v160Zm440 0h160v-160H620v160ZM180-180h160v-160H180v160Zm440 0h160v-160H620v160Z\"/>\n",
              "  </svg>\n",
              "    </button>\n",
              "\n",
              "  <style>\n",
              "    .colab-df-container {\n",
              "      display:flex;\n",
              "      gap: 12px;\n",
              "    }\n",
              "\n",
              "    .colab-df-convert {\n",
              "      background-color: #E8F0FE;\n",
              "      border: none;\n",
              "      border-radius: 50%;\n",
              "      cursor: pointer;\n",
              "      display: none;\n",
              "      fill: #1967D2;\n",
              "      height: 32px;\n",
              "      padding: 0 0 0 0;\n",
              "      width: 32px;\n",
              "    }\n",
              "\n",
              "    .colab-df-convert:hover {\n",
              "      background-color: #E2EBFA;\n",
              "      box-shadow: 0px 1px 2px rgba(60, 64, 67, 0.3), 0px 1px 3px 1px rgba(60, 64, 67, 0.15);\n",
              "      fill: #174EA6;\n",
              "    }\n",
              "\n",
              "    .colab-df-buttons div {\n",
              "      margin-bottom: 4px;\n",
              "    }\n",
              "\n",
              "    [theme=dark] .colab-df-convert {\n",
              "      background-color: #3B4455;\n",
              "      fill: #D2E3FC;\n",
              "    }\n",
              "\n",
              "    [theme=dark] .colab-df-convert:hover {\n",
              "      background-color: #434B5C;\n",
              "      box-shadow: 0px 1px 3px 1px rgba(0, 0, 0, 0.15);\n",
              "      filter: drop-shadow(0px 1px 2px rgba(0, 0, 0, 0.3));\n",
              "      fill: #FFFFFF;\n",
              "    }\n",
              "  </style>\n",
              "\n",
              "    <script>\n",
              "      const buttonEl =\n",
              "        document.querySelector('#df-354def21-4336-4a27-a256-9ef0ca45f738 button.colab-df-convert');\n",
              "      buttonEl.style.display =\n",
              "        google.colab.kernel.accessAllowed ? 'block' : 'none';\n",
              "\n",
              "      async function convertToInteractive(key) {\n",
              "        const element = document.querySelector('#df-354def21-4336-4a27-a256-9ef0ca45f738');\n",
              "        const dataTable =\n",
              "          await google.colab.kernel.invokeFunction('convertToInteractive',\n",
              "                                                    [key], {});\n",
              "        if (!dataTable) return;\n",
              "\n",
              "        const docLinkHtml = 'Like what you see? Visit the ' +\n",
              "          '<a target=\"_blank\" href=https://colab.research.google.com/notebooks/data_table.ipynb>data table notebook</a>'\n",
              "          + ' to learn more about interactive tables.';\n",
              "        element.innerHTML = '';\n",
              "        dataTable['output_type'] = 'display_data';\n",
              "        await google.colab.output.renderOutput(dataTable, element);\n",
              "        const docLink = document.createElement('div');\n",
              "        docLink.innerHTML = docLinkHtml;\n",
              "        element.appendChild(docLink);\n",
              "      }\n",
              "    </script>\n",
              "  </div>\n",
              "\n",
              "\n",
              "    <div id=\"df-502948c5-907c-4f2d-9bf6-46aa1c48a9e9\">\n",
              "      <button class=\"colab-df-quickchart\" onclick=\"quickchart('df-502948c5-907c-4f2d-9bf6-46aa1c48a9e9')\"\n",
              "                title=\"Suggest charts\"\n",
              "                style=\"display:none;\">\n",
              "\n",
              "<svg xmlns=\"http://www.w3.org/2000/svg\" height=\"24px\"viewBox=\"0 0 24 24\"\n",
              "     width=\"24px\">\n",
              "    <g>\n",
              "        <path d=\"M19 3H5c-1.1 0-2 .9-2 2v14c0 1.1.9 2 2 2h14c1.1 0 2-.9 2-2V5c0-1.1-.9-2-2-2zM9 17H7v-7h2v7zm4 0h-2V7h2v10zm4 0h-2v-4h2v4z\"/>\n",
              "    </g>\n",
              "</svg>\n",
              "      </button>\n",
              "\n",
              "<style>\n",
              "  .colab-df-quickchart {\n",
              "      --bg-color: #E8F0FE;\n",
              "      --fill-color: #1967D2;\n",
              "      --hover-bg-color: #E2EBFA;\n",
              "      --hover-fill-color: #174EA6;\n",
              "      --disabled-fill-color: #AAA;\n",
              "      --disabled-bg-color: #DDD;\n",
              "  }\n",
              "\n",
              "  [theme=dark] .colab-df-quickchart {\n",
              "      --bg-color: #3B4455;\n",
              "      --fill-color: #D2E3FC;\n",
              "      --hover-bg-color: #434B5C;\n",
              "      --hover-fill-color: #FFFFFF;\n",
              "      --disabled-bg-color: #3B4455;\n",
              "      --disabled-fill-color: #666;\n",
              "  }\n",
              "\n",
              "  .colab-df-quickchart {\n",
              "    background-color: var(--bg-color);\n",
              "    border: none;\n",
              "    border-radius: 50%;\n",
              "    cursor: pointer;\n",
              "    display: none;\n",
              "    fill: var(--fill-color);\n",
              "    height: 32px;\n",
              "    padding: 0;\n",
              "    width: 32px;\n",
              "  }\n",
              "\n",
              "  .colab-df-quickchart:hover {\n",
              "    background-color: var(--hover-bg-color);\n",
              "    box-shadow: 0 1px 2px rgba(60, 64, 67, 0.3), 0 1px 3px 1px rgba(60, 64, 67, 0.15);\n",
              "    fill: var(--button-hover-fill-color);\n",
              "  }\n",
              "\n",
              "  .colab-df-quickchart-complete:disabled,\n",
              "  .colab-df-quickchart-complete:disabled:hover {\n",
              "    background-color: var(--disabled-bg-color);\n",
              "    fill: var(--disabled-fill-color);\n",
              "    box-shadow: none;\n",
              "  }\n",
              "\n",
              "  .colab-df-spinner {\n",
              "    border: 2px solid var(--fill-color);\n",
              "    border-color: transparent;\n",
              "    border-bottom-color: var(--fill-color);\n",
              "    animation:\n",
              "      spin 1s steps(1) infinite;\n",
              "  }\n",
              "\n",
              "  @keyframes spin {\n",
              "    0% {\n",
              "      border-color: transparent;\n",
              "      border-bottom-color: var(--fill-color);\n",
              "      border-left-color: var(--fill-color);\n",
              "    }\n",
              "    20% {\n",
              "      border-color: transparent;\n",
              "      border-left-color: var(--fill-color);\n",
              "      border-top-color: var(--fill-color);\n",
              "    }\n",
              "    30% {\n",
              "      border-color: transparent;\n",
              "      border-left-color: var(--fill-color);\n",
              "      border-top-color: var(--fill-color);\n",
              "      border-right-color: var(--fill-color);\n",
              "    }\n",
              "    40% {\n",
              "      border-color: transparent;\n",
              "      border-right-color: var(--fill-color);\n",
              "      border-top-color: var(--fill-color);\n",
              "    }\n",
              "    60% {\n",
              "      border-color: transparent;\n",
              "      border-right-color: var(--fill-color);\n",
              "    }\n",
              "    80% {\n",
              "      border-color: transparent;\n",
              "      border-right-color: var(--fill-color);\n",
              "      border-bottom-color: var(--fill-color);\n",
              "    }\n",
              "    90% {\n",
              "      border-color: transparent;\n",
              "      border-bottom-color: var(--fill-color);\n",
              "    }\n",
              "  }\n",
              "</style>\n",
              "\n",
              "      <script>\n",
              "        async function quickchart(key) {\n",
              "          const quickchartButtonEl =\n",
              "            document.querySelector('#' + key + ' button');\n",
              "          quickchartButtonEl.disabled = true;  // To prevent multiple clicks.\n",
              "          quickchartButtonEl.classList.add('colab-df-spinner');\n",
              "          try {\n",
              "            const charts = await google.colab.kernel.invokeFunction(\n",
              "                'suggestCharts', [key], {});\n",
              "          } catch (error) {\n",
              "            console.error('Error during call to suggestCharts:', error);\n",
              "          }\n",
              "          quickchartButtonEl.classList.remove('colab-df-spinner');\n",
              "          quickchartButtonEl.classList.add('colab-df-quickchart-complete');\n",
              "        }\n",
              "        (() => {\n",
              "          let quickchartButtonEl =\n",
              "            document.querySelector('#df-502948c5-907c-4f2d-9bf6-46aa1c48a9e9 button');\n",
              "          quickchartButtonEl.style.display =\n",
              "            google.colab.kernel.accessAllowed ? 'block' : 'none';\n",
              "        })();\n",
              "      </script>\n",
              "    </div>\n",
              "\n",
              "    </div>\n",
              "  </div>\n"
            ],
            "application/vnd.google.colaboratory.intrinsic+json": {
              "type": "dataframe",
              "variable_name": "data",
              "summary": "{\n  \"name\": \"data\",\n  \"rows\": 586,\n  \"fields\": [\n    {\n      \"column\": \"trial_id\",\n      \"properties\": {\n        \"dtype\": \"number\",\n        \"std\": 169,\n        \"min\": 0,\n        \"max\": 585,\n        \"num_unique_values\": 586,\n        \"samples\": [\n          519,\n          284,\n          511\n        ],\n        \"semantic_type\": \"\",\n        \"description\": \"\"\n      }\n    },\n    {\n      \"column\": \"goCueTrigger_times\",\n      \"properties\": {\n        \"dtype\": \"number\",\n        \"std\": 758.6638321414307,\n        \"min\": 65.66976600616952,\n        \"max\": 2761.873919947989,\n        \"num_unique_values\": 586,\n        \"samples\": [\n          2366.332762316294,\n          1329.9389047703228,\n          2338.720058174076\n        ],\n        \"semantic_type\": \"\",\n        \"description\": \"\"\n      }\n    },\n    {\n      \"column\": \"stimOff_times\",\n      \"properties\": {\n        \"dtype\": \"number\",\n        \"std\": 765.218587483955,\n        \"min\": 67.003365660067,\n        \"max\": 4086.2809977040865,\n        \"num_unique_values\": 586,\n        \"samples\": [\n          2367.8326597223677,\n          1331.3388528013313,\n          2340.0532379423403\n        ],\n        \"semantic_type\": \"\",\n        \"description\": \"\"\n      }\n    },\n    {\n      \"column\": \"goCue_times\",\n      \"properties\": {\n        \"dtype\": \"number\",\n        \"std\": 758.6638256848626,\n        \"min\": 65.67059895006567,\n        \"max\": 2761.874651582762,\n        \"num_unique_values\": 586,\n        \"samples\": [\n          2366.333442992366,\n          1329.93962607133,\n          2338.720904522339\n        ],\n        \"semantic_type\": \"\",\n        \"description\": \"\"\n      }\n    },\n    {\n      \"column\": \"response_times\",\n      \"properties\": {\n        \"dtype\": \"number\",\n        \"std\": 759.1715376862785,\n        \"min\": 65.95546495661841,\n        \"max\": 2783.6192314623318,\n        \"num_unique_values\": 586,\n        \"samples\": [\n          2366.7655602054765,\n          1330.2823051839325,\n          2338.9822584719905\n        ],\n        \"semantic_type\": \"\",\n        \"description\": \"\"\n      }\n    },\n    {\n      \"column\": \"choice\",\n      \"properties\": {\n        \"dtype\": \"number\",\n        \"std\": 0.9914838213622568,\n        \"min\": -1.0,\n        \"max\": 1.0,\n        \"num_unique_values\": 2,\n        \"samples\": [\n          1.0,\n          -1.0\n        ],\n        \"semantic_type\": \"\",\n        \"description\": \"\"\n      }\n    },\n    {\n      \"column\": \"stimOn_times\",\n      \"properties\": {\n        \"dtype\": \"number\",\n        \"std\": 758.6635959574606,\n        \"min\": 65.75002434006575,\n        \"max\": 2761.873751672762,\n        \"num_unique_values\": 586,\n        \"samples\": [\n          2366.3326430723664,\n          1329.9387594913298\n        ],\n        \"semantic_type\": \"\",\n        \"description\": \"\"\n      }\n    },\n    {\n      \"column\": \"contrastLeft\",\n      \"properties\": {\n        \"dtype\": \"number\",\n        \"std\": 0.3768235195351503,\n        \"min\": 0.0,\n        \"max\": 1.0,\n        \"num_unique_values\": 5,\n        \"samples\": [\n          0.0625,\n          0.0\n        ],\n        \"semantic_type\": \"\",\n        \"description\": \"\"\n      }\n    },\n    {\n      \"column\": \"contrastRight\",\n      \"properties\": {\n        \"dtype\": \"number\",\n        \"std\": 0.3696231127167035,\n        \"min\": 0.0,\n        \"max\": 1.0,\n        \"num_unique_values\": 5,\n        \"samples\": [\n          0.25,\n          0.0625\n        ],\n        \"semantic_type\": \"\",\n        \"description\": \"\"\n      }\n    },\n    {\n      \"column\": \"probabilityLeft\",\n      \"properties\": {\n        \"dtype\": \"number\",\n        \"std\": 0.275751437607512,\n        \"min\": 0.2,\n        \"max\": 0.8,\n        \"num_unique_values\": 3,\n        \"samples\": [\n          0.5,\n          0.8\n        ],\n        \"semantic_type\": \"\",\n        \"description\": \"\"\n      }\n    },\n    {\n      \"column\": \"feedback_times\",\n      \"properties\": {\n        \"dtype\": \"number\",\n        \"std\": 764.658075681689,\n        \"min\": 65.95557045006596,\n        \"max\": 4086.115247614086,\n        \"num_unique_values\": 584,\n        \"samples\": [\n          1786.1064714917861,\n          1957.087838311957\n        ],\n        \"semantic_type\": \"\",\n        \"description\": \"\"\n      }\n    },\n    {\n      \"column\": \"feedbackType\",\n      \"properties\": {\n        \"dtype\": \"number\",\n        \"std\": 0.6979531848417909,\n        \"min\": -1.0,\n        \"max\": 1.0,\n        \"num_unique_values\": 2,\n        \"samples\": [\n          -1.0,\n          1.0\n        ],\n        \"semantic_type\": \"\",\n        \"description\": \"\"\n      }\n    },\n    {\n      \"column\": \"rewardVolume\",\n      \"properties\": {\n        \"dtype\": \"number\",\n        \"std\": 0.5234648886313452,\n        \"min\": 0.0,\n        \"max\": 1.5,\n        \"num_unique_values\": 2,\n        \"samples\": [\n          0.0,\n          1.5\n        ],\n        \"semantic_type\": \"\",\n        \"description\": \"\"\n      }\n    },\n    {\n      \"column\": \"firstMovement_times\",\n      \"properties\": {\n        \"dtype\": \"number\",\n        \"std\": 758.7014228635109,\n        \"min\": 65.81343089000008,\n        \"max\": 2764.0034308900026,\n        \"num_unique_values\": 581,\n        \"samples\": [\n          2749.1164308900024,\n          1314.5094308900013\n        ],\n        \"semantic_type\": \"\",\n        \"description\": \"\"\n      }\n    },\n    {\n      \"column\": \"interval 1\",\n      \"properties\": {\n        \"dtype\": \"number\",\n        \"std\": 758.8716095313891,\n        \"min\": 64.97456856006498,\n        \"max\": 2760.863119412761,\n        \"num_unique_values\": 586,\n        \"samples\": [\n          2365.7799650123657,\n          1326.5274006613265\n        ],\n        \"semantic_type\": \"\",\n        \"description\": \"\"\n      }\n    },\n    {\n      \"column\": \"interval 2\",\n      \"properties\": {\n        \"dtype\": \"number\",\n        \"std\": 759.1960080452401,\n        \"min\": 67.50346126985882,\n        \"max\": 2785.173534285349,\n        \"num_unique_values\": 586,\n        \"samples\": [\n          2368.332754562045,\n          1331.8389090587889\n        ],\n        \"semantic_type\": \"\",\n        \"description\": \"\"\n      }\n    }\n  ]\n}"
            }
          },
          "metadata": {},
          "execution_count": 11
        }
      ]
    },
    {
      "cell_type": "markdown",
      "source": [
        "# Prediciting block bias (probabilityLeft) from pre-stmulus activtiy with traisl of all contrast values"
      ],
      "metadata": {
        "id": "ONwSbEHfRia4"
      }
    },
    {
      "cell_type": "code",
      "source": [
        "spikes = one.load_object(eid, 'spikes')\n",
        "spike_times    = spikes['times']\n",
        "spike_clusters = spikes['clusters']"
      ],
      "metadata": {
        "id": "vTGJ602Nst62",
        "colab": {
          "base_uri": "https://localhost:8080/"
        },
        "outputId": "d743695e-a1ce-40a0-a872-254eab40be5b"
      },
      "execution_count": null,
      "outputs": [
        {
          "output_type": "stream",
          "name": "stderr",
          "text": [
            "(S3) /root/Downloads/ONE/openalyx.internationalbrainlab.org/hausserlab/Subjects/PL033/2022-10-06/001/alf/probe00/pykilosort/#2024-05-06#/spikes.amps.npy: 100%|██████████| 181M/181M [00:01<00:00, 120MB/s]\n",
            "(S3) /root/Downloads/ONE/openalyx.internationalbrainlab.org/hausserlab/Subjects/PL033/2022-10-06/001/alf/probe00/pykilosort/#2024-05-06#/spikes.clusters.npy: 100%|██████████| 90.7M/90.7M [00:00<00:00, 177MB/s]\n",
            "(S3) /root/Downloads/ONE/openalyx.internationalbrainlab.org/hausserlab/Subjects/PL033/2022-10-06/001/alf/probe00/pykilosort/#2024-05-06#/spikes.depths.npy: 100%|██████████| 181M/181M [00:03<00:00, 50.7MB/s]\n",
            "(S3) /root/Downloads/ONE/openalyx.internationalbrainlab.org/hausserlab/Subjects/PL033/2022-10-06/001/alf/probe00/pykilosort/#2024-05-06#/spikes.samples.npy: 100%|██████████| 181M/181M [00:00<00:00, 185MB/s]\n",
            "(S3) /root/Downloads/ONE/openalyx.internationalbrainlab.org/hausserlab/Subjects/PL033/2022-10-06/001/alf/probe00/pykilosort/#2024-05-06#/spikes.templates.npy: 100%|██████████| 90.7M/90.7M [00:00<00:00, 212MB/s]\n",
            "(S3) /root/Downloads/ONE/openalyx.internationalbrainlab.org/hausserlab/Subjects/PL033/2022-10-06/001/alf/probe00/pykilosort/#2024-05-06#/spikes.times.npy: 100%|██████████| 181M/181M [00:01<00:00, 98.5MB/s]\n"
          ]
        }
      ]
    },
    {
      "cell_type": "code",
      "source": [
        "import numpy as np\n",
        "unit_ids = np.unique(spike_clusters)\n",
        "print(f\"Number of units: {len(unit_ids)}\")"
      ],
      "metadata": {
        "id": "ThgSNGa7xhjW",
        "colab": {
          "base_uri": "https://localhost:8080/"
        },
        "outputId": "894b0e67-815c-47c4-ead8-7a3491625020"
      },
      "execution_count": null,
      "outputs": [
        {
          "output_type": "stream",
          "name": "stdout",
          "text": [
            "Number of units: 730\n"
          ]
        }
      ]
    },
    {
      "cell_type": "code",
      "source": [
        "stim_times0 = data['stimOn_times'].values"
      ],
      "metadata": {
        "id": "sfohjeK1xlHD"
      },
      "execution_count": null,
      "outputs": []
    },
    {
      "cell_type": "code",
      "source": [
        "def extract_pre_stim(X_times, X_clusters, units, stim_times, pre=0.5):\n",
        "    n_trials = len(stim_times)\n",
        "    n_units  = len(units)\n",
        "    X = np.zeros((n_trials, n_units), dtype=float)\n",
        "    spikes_by_unit = {u: X_times[X_clusters == u] for u in units}\n",
        "    for i, t0 in enumerate(stim_times):\n",
        "        start, end = t0 - pre, t0\n",
        "        for j, u in enumerate(units):\n",
        "            st = spikes_by_unit[u]\n",
        "            X[i, j] = np.sum((st > start) & (st < end)) / pre  # firing rate\n",
        "    return X\n",
        "\n",
        "X = extract_pre_stim(spike_times, spike_clusters, unit_ids, stim_times0)\n",
        "print(\"X shape:\", X.shape)  # should be (n_trials, n_units)"
      ],
      "metadata": {
        "id": "M04IWBJGxtdX",
        "colab": {
          "base_uri": "https://localhost:8080/"
        },
        "outputId": "58da0bb4-0cfa-41b2-d6f6-510bc497e714"
      },
      "execution_count": null,
      "outputs": [
        {
          "output_type": "stream",
          "name": "stdout",
          "text": [
            "X shape: (586, 730)\n"
          ]
        }
      ]
    },
    {
      "cell_type": "code",
      "source": [
        "data_filtered = data[data['probabilityLeft'].isin([0.2, 0.8, 0.5])].reset_index(drop=True)\n",
        "stim_times0 = data_filtered['stimOn_times'].values\n",
        "y = data_filtered['probabilityLeft'].map({0.8: 0, 0.5: 1, 0.2:2}).values"
      ],
      "metadata": {
        "id": "6c_JZwqAx4rE"
      },
      "execution_count": null,
      "outputs": []
    },
    {
      "cell_type": "code",
      "source": [
        "print(\"Shape of X:\", X.shape)  # (n_trials, n_units)\n",
        "print(\"Label distribution:\", np.bincount(y))\n",
        "print(y.shape)"
      ],
      "metadata": {
        "id": "3Yx5gcBFyY-j",
        "colab": {
          "base_uri": "https://localhost:8080/"
        },
        "outputId": "1544a65e-8313-4f95-e104-b9709b028d0b"
      },
      "execution_count": null,
      "outputs": [
        {
          "output_type": "stream",
          "name": "stdout",
          "text": [
            "Shape of X: (586, 730)\n",
            "Label distribution: [264  90 232]\n",
            "(586,)\n"
          ]
        }
      ]
    },
    {
      "cell_type": "code",
      "source": [
        "from sklearn.linear_model import LogisticRegression\n",
        "from sklearn.model_selection import cross_val_score\n",
        "\n",
        "clf = LogisticRegression(max_iter=1000)\n",
        "scores = cross_val_score(clf, X, y, cv=5)\n",
        "\n",
        "print(f\"Mean accuracy: {scores.mean():.3f} ± {scores.std():.3f}\")"
      ],
      "metadata": {
        "id": "I_Vn0C2lyZF2",
        "colab": {
          "base_uri": "https://localhost:8080/"
        },
        "outputId": "4d241781-6934-4f4c-e3bc-2490296f56ff"
      },
      "execution_count": null,
      "outputs": [
        {
          "output_type": "stream",
          "name": "stdout",
          "text": [
            "Mean accuracy: 0.577 ± 0.106\n"
          ]
        }
      ]
    },
    {
      "cell_type": "code",
      "source": [
        "clf.fit(X, y)\n",
        "weights = clf.coef_[0]  # one weight per neuron\n",
        "# Get top 10 positively and negatively weighted units\n",
        "pos_idx = np.argsort(weights)[-10:]\n",
        "neg_idx = np.argsort(weights)[:10]\n",
        "\n",
        "print(\"Top + units:\", pos_idx)\n",
        "print(\"Top – units:\", neg_idx)"
      ],
      "metadata": {
        "id": "wHGbNmXGyZUx",
        "colab": {
          "base_uri": "https://localhost:8080/"
        },
        "outputId": "e2b23829-083d-47a8-882d-00c2f4a89b4e"
      },
      "execution_count": null,
      "outputs": [
        {
          "output_type": "stream",
          "name": "stdout",
          "text": [
            "Top + units: [382 601 619 241 259 215 441 638 595 565]\n",
            "Top – units: [504 265 667 703 574 655 567 493  68 526]\n"
          ]
        }
      ]
    },
    {
      "cell_type": "code",
      "source": [
        "from sklearn.model_selection import cross_val_score\n",
        "\n",
        "n_perm = 50\n",
        "\n",
        "# Actual model performance\n",
        "actual_score = cross_val_score(clf, X, y, cv=5, n_jobs=-1).mean()\n",
        "\n",
        "# Permutation scores (parallelized)\n",
        "def permuted_score(_):\n",
        "    y_perm = np.random.permutation(y)\n",
        "    return cross_val_score(clf, X, y_perm, cv=5, n_jobs=-1).mean()\n",
        "\n",
        "# Use joblib for parallelism\n",
        "from joblib import Parallel, delayed\n",
        "perm_scores = Parallel(n_jobs=-1)(delayed(permuted_score)(i) for i in range(n_perm))\n",
        "\n",
        "# Compute p-value\n",
        "p_val = np.mean(np.array(perm_scores) >= actual_score)\n",
        "print(f\"Permutation p‑value: {p_val:.3f}\")"
      ],
      "metadata": {
        "id": "cqADA0wH2qsB",
        "colab": {
          "base_uri": "https://localhost:8080/"
        },
        "collapsed": true,
        "outputId": "4c2294ae-5a63-4c61-ead2-4835db76929a"
      },
      "execution_count": null,
      "outputs": [
        {
          "output_type": "stream",
          "name": "stdout",
          "text": [
            "Permutation p‑value: 0.000\n"
          ]
        }
      ]
    },
    {
      "cell_type": "markdown",
      "source": [
        "# Prediciting block bias (probabilityLeft) either 0.8 or 0.2 from pre-stimulus activity for trials with all contrast values"
      ],
      "metadata": {
        "id": "3736sbq8USV8"
      }
    },
    {
      "cell_type": "code",
      "source": [
        "data_filtered1 = data[data['probabilityLeft'].isin([0.2, 0.8])].reset_index(drop=True)\n",
        "stim_times1 = data_filtered1['stimOn_times'].values\n",
        "y = data_filtered1['probabilityLeft'].map({0.8: 0, 0.2: 1}).values"
      ],
      "metadata": {
        "id": "YpKazSdlVa8D"
      },
      "execution_count": null,
      "outputs": []
    },
    {
      "cell_type": "code",
      "source": [
        "def extract_pre_stim(X_times, X_clusters, units, stim_times, pre=0.5):\n",
        "    n_trials = len(stim_times)\n",
        "    n_units  = len(units)\n",
        "    X = np.zeros((n_trials, n_units), dtype=float)\n",
        "    spikes_by_unit = {u: X_times[X_clusters == u] for u in units}\n",
        "    for i, t0 in enumerate(stim_times):\n",
        "        start, end = t0 - pre, t0\n",
        "        for j, u in enumerate(units):\n",
        "            st = spikes_by_unit[u]\n",
        "            X[i, j] = np.sum((st > start) & (st < end)) / pre  # firing rate\n",
        "    return X\n",
        "\n",
        "X = extract_pre_stim(spike_times, spike_clusters, unit_ids, stim_times1)\n",
        "print(\"X shape:\", X.shape)  # should be (n_trials, n_units)"
      ],
      "metadata": {
        "colab": {
          "base_uri": "https://localhost:8080/"
        },
        "outputId": "ec3c1f25-99ff-4f5a-f615-72b893d0728d",
        "id": "Cth3qiTDWNdW"
      },
      "execution_count": null,
      "outputs": [
        {
          "output_type": "stream",
          "name": "stdout",
          "text": [
            "X shape: (496, 730)\n"
          ]
        }
      ]
    },
    {
      "cell_type": "code",
      "source": [
        "print(\"Shape of X:\", X.shape)  # (n_trials, n_units)\n",
        "print(\"Label distribution:\", np.bincount(y))\n",
        "print(\"Shape of y:\",y.shape)"
      ],
      "metadata": {
        "colab": {
          "base_uri": "https://localhost:8080/"
        },
        "id": "pMxJuMopaH2X",
        "outputId": "f60872cc-d290-4e1d-8a62-d96c61398360"
      },
      "execution_count": null,
      "outputs": [
        {
          "output_type": "stream",
          "name": "stdout",
          "text": [
            "Shape of X: (496, 730)\n",
            "Label distribution: [264 232]\n",
            "Shape of y: (496,)\n"
          ]
        }
      ]
    },
    {
      "cell_type": "code",
      "source": [
        "from sklearn.linear_model import LogisticRegression\n",
        "from sklearn.model_selection import cross_val_score\n",
        "\n",
        "clf = LogisticRegression(max_iter=1000)\n",
        "scores = cross_val_score(clf, X, y, cv=5)\n",
        "\n",
        "print(f\"Mean accuracy: {scores.mean():.3f} ± {scores.std():.3f}\")"
      ],
      "metadata": {
        "colab": {
          "base_uri": "https://localhost:8080/"
        },
        "id": "f69Sakc3Wj6n",
        "outputId": "0020d061-e2b1-4f88-fe0a-364eb9cb7179"
      },
      "execution_count": null,
      "outputs": [
        {
          "output_type": "stream",
          "name": "stdout",
          "text": [
            "Mean accuracy: 0.585 ± 0.042\n"
          ]
        }
      ]
    },
    {
      "cell_type": "code",
      "source": [
        "clf.fit(X, y)\n",
        "weights = clf.coef_[0]  # one weight per neuron\n",
        "# Get top 10 positively and negatively weighted units\n",
        "pos_idx = np.argsort(weights)[-10:]\n",
        "neg_idx = np.argsort(weights)[:10]\n",
        "\n",
        "print(\"Top + units:\", pos_idx)\n",
        "print(\"Top – units:\", neg_idx)"
      ],
      "metadata": {
        "colab": {
          "base_uri": "https://localhost:8080/"
        },
        "id": "5HQwGpHuWkON",
        "outputId": "81171695-f8a0-4d2d-f455-dc405320a2bd"
      },
      "execution_count": null,
      "outputs": [
        {
          "output_type": "stream",
          "name": "stdout",
          "text": [
            "Top + units: [567  86 655 435 667 703  62 265 574 504]\n",
            "Top – units: [565 313 595 638 215 441 259 601 417  92]\n"
          ]
        }
      ]
    },
    {
      "cell_type": "code",
      "source": [
        "from sklearn.model_selection import cross_val_score\n",
        "\n",
        "n_perm = 50\n",
        "\n",
        "# Actual model performance\n",
        "actual_score = cross_val_score(clf, X, y, cv=5, n_jobs=-1).mean()\n",
        "\n",
        "# Permutation scores (parallelized)\n",
        "def permuted_score(_):\n",
        "    y_perm = np.random.permutation(y)\n",
        "    return cross_val_score(clf, X, y_perm, cv=5, n_jobs=-1).mean()\n",
        "\n",
        "# Use joblib for parallelism\n",
        "from joblib import Parallel, delayed\n",
        "perm_scores = Parallel(n_jobs=-1)(delayed(permuted_score)(i) for i in range(n_perm))\n",
        "\n",
        "# Compute p-value\n",
        "p_val = np.mean(np.array(perm_scores) >= actual_score)\n",
        "print(f\"Permutation p‑value: {p_val:.3f}\")"
      ],
      "metadata": {
        "colab": {
          "base_uri": "https://localhost:8080/"
        },
        "id": "wEStncfFWkVg",
        "outputId": "f3b4ff20-e863-4718-a986-a914699ba2ad"
      },
      "execution_count": null,
      "outputs": [
        {
          "output_type": "stream",
          "name": "stdout",
          "text": [
            "Permutation p‑value: 0.000\n"
          ]
        }
      ]
    },
    {
      "cell_type": "markdown",
      "source": [
        "# Prediciting choice from pre-stimulus activity with all contrast values\n"
      ],
      "metadata": {
        "id": "mV0QlsIiUcUY"
      }
    },
    {
      "cell_type": "code",
      "source": [
        "def extract_pre_stim(X_times, X_clusters, units, stim_times, pre=0.5):\n",
        "    n_trials = len(stim_times)\n",
        "    n_units  = len(units)\n",
        "    X = np.zeros((n_trials, n_units), dtype=float)\n",
        "    spikes_by_unit = {u: X_times[X_clusters == u] for u in units}\n",
        "    for i, t0 in enumerate(stim_times):\n",
        "        start, end = t0 - pre, t0\n",
        "        for j, u in enumerate(units):\n",
        "            st = spikes_by_unit[u]\n",
        "            X[i, j] = np.sum((st > start) & (st < end)) / pre  # firing rate\n",
        "    return X\n",
        "\n",
        "X = extract_pre_stim(spike_times, spike_clusters, unit_ids, stim_times0)\n",
        "print(\"X shape:\", X.shape)  # should be (n_trials, n_units)"
      ],
      "metadata": {
        "colab": {
          "base_uri": "https://localhost:8080/"
        },
        "id": "hWxYG_sVW0_P",
        "outputId": "827dd69d-1ebc-4c87-e16e-eade0c64e7fe"
      },
      "execution_count": null,
      "outputs": [
        {
          "output_type": "stream",
          "name": "stdout",
          "text": [
            "X shape: (586, 730)\n"
          ]
        }
      ]
    },
    {
      "cell_type": "code",
      "source": [
        "data_filtered = data[data['choice'].isin([-1.0,1.0])].reset_index(drop=True)\n",
        "stim_times0 = data_filtered['stimOn_times'].values\n",
        "y = data_filtered['choice'].map({-1.0: 0, 1.0: 1}).values\n",
        "print(\"Shape of X:\", X.shape)  # (n_trials, n_units)\n",
        "print(\"Label distribution:\", np.bincount(y))\n",
        "print(y.shape)"
      ],
      "metadata": {
        "colab": {
          "base_uri": "https://localhost:8080/"
        },
        "id": "rGGvMuqjXIzP",
        "outputId": "8fdb9a38-3e00-4f8d-fe33-210e8e685b4f"
      },
      "execution_count": null,
      "outputs": [
        {
          "output_type": "stream",
          "name": "stdout",
          "text": [
            "Shape of X: (586, 730)\n",
            "Label distribution: [333 253]\n",
            "(586,)\n"
          ]
        }
      ]
    },
    {
      "cell_type": "code",
      "source": [
        "from sklearn.linear_model import LogisticRegression\n",
        "from sklearn.model_selection import cross_val_score\n",
        "\n",
        "clf = LogisticRegression(max_iter=1000)\n",
        "scores = cross_val_score(clf, X, y, cv=5)\n",
        "\n",
        "print(f\"Mean accuracy: {scores.mean():.3f} ± {scores.std():.3f}\")"
      ],
      "metadata": {
        "colab": {
          "base_uri": "https://localhost:8080/"
        },
        "id": "uKxiR7C1cz7M",
        "outputId": "a77b3c2f-0afa-450b-9ff3-daafce329382"
      },
      "execution_count": null,
      "outputs": [
        {
          "output_type": "stream",
          "name": "stdout",
          "text": [
            "Mean accuracy: 0.515 ± 0.034\n"
          ]
        }
      ]
    },
    {
      "cell_type": "code",
      "source": [
        "clf.fit(X, y)\n",
        "weights = clf.coef_[0]  # one weight per neuron\n",
        "# Get top 10 positively and negatively weighted units\n",
        "pos_idx = np.argsort(weights)[-10:]\n",
        "neg_idx = np.argsort(weights)[:10]\n",
        "\n",
        "print(\"Top + units:\", pos_idx)\n",
        "print(\"Top – units:\", neg_idx)"
      ],
      "metadata": {
        "colab": {
          "base_uri": "https://localhost:8080/"
        },
        "id": "yPFvGkzzc5cM",
        "outputId": "e2238240-7a46-4f07-a401-5bcca786a2a8"
      },
      "execution_count": null,
      "outputs": [
        {
          "output_type": "stream",
          "name": "stdout",
          "text": [
            "Top + units: [725 518 656 376 115 460  32 417  92 300]\n",
            "Top – units: [667 375 433 402  67 201 483 620  89 681]\n"
          ]
        }
      ]
    },
    {
      "cell_type": "code",
      "source": [
        "from sklearn.model_selection import cross_val_score\n",
        "\n",
        "n_perm = 50\n",
        "\n",
        "# Actual model performance\n",
        "actual_score = cross_val_score(clf, X, y, cv=5, n_jobs=-1).mean()\n",
        "\n",
        "# Permutation scores (parallelized)\n",
        "def permuted_score(_):\n",
        "    y_perm = np.random.permutation(y)\n",
        "    return cross_val_score(clf, X, y_perm, cv=5, n_jobs=-1).mean()\n",
        "\n",
        "# Use joblib for parallelism\n",
        "from joblib import Parallel, delayed\n",
        "perm_scores = Parallel(n_jobs=-1)(delayed(permuted_score)(i) for i in range(n_perm))\n",
        "\n",
        "# Compute p-value\n",
        "p_val = np.mean(np.array(perm_scores) >= actual_score)\n",
        "print(f\"Permutation p‑value: {p_val:.3f}\")"
      ],
      "metadata": {
        "colab": {
          "base_uri": "https://localhost:8080/"
        },
        "id": "GWVOTrV3c8ZQ",
        "outputId": "963b8a0a-53b0-45da-8123-110cdd4172a0"
      },
      "execution_count": null,
      "outputs": [
        {
          "output_type": "stream",
          "name": "stdout",
          "text": [
            "Permutation p‑value: 0.220\n"
          ]
        }
      ]
    },
    {
      "cell_type": "markdown",
      "source": [
        "# Prediciting choice from pre-stimuls activity with only 0 contrast trials"
      ],
      "metadata": {
        "id": "5yVE_Rm6UciG"
      }
    },
    {
      "cell_type": "code",
      "source": [
        "# Select only trials where both contrasts are zero\n",
        "mask0 = (data['contrastLeft'] == 0.0) | (data['contrastRight'] == 0.0)\n",
        "tr0 = data[mask0].reset_index(drop=True)\n",
        "\n",
        "print(f\"Using {len(tr0)} zero‑contrast trials out of {len(data)} total.\")\n",
        "tr0.head()"
      ],
      "metadata": {
        "colab": {
          "base_uri": "https://localhost:8080/",
          "height": 262
        },
        "id": "Ff6Zgv1KoWpX",
        "outputId": "6a5f4b54-d6e9-48fd-c32b-11dc29481dfa"
      },
      "execution_count": null,
      "outputs": [
        {
          "output_type": "stream",
          "name": "stdout",
          "text": [
            "Using 74 zero‑contrast trials out of 586 total.\n"
          ]
        },
        {
          "output_type": "execute_result",
          "data": {
            "text/plain": [
              "   trial_id  goCueTrigger_times  stimOff_times  goCue_times  response_times  \\\n",
              "0        19          140.251848     143.115020   140.252673      141.071847   \n",
              "1        23          155.748159     156.964635   155.749090      155.899059   \n",
              "2        25          162.984454     165.484250   162.985300      164.420146   \n",
              "3        37          213.633558     214.999831   213.634434      213.942458   \n",
              "4        43          237.532947     238.679463   237.533678      237.624347   \n",
              "\n",
              "   choice  stimOn_times  contrastLeft  contrastRight  probabilityLeft  \\\n",
              "0     1.0    140.251707           NaN            0.0              0.5   \n",
              "1     1.0    155.747990           0.0            NaN              0.5   \n",
              "2    -1.0    162.984267           NaN            0.0              0.5   \n",
              "3    -1.0    213.633335           NaN            0.0              0.5   \n",
              "4    -1.0    237.532778           NaN            0.0              0.5   \n",
              "\n",
              "   feedback_times  feedbackType  rewardVolume  firstMovement_times  \\\n",
              "0      141.072658          -1.0           0.0           140.613431   \n",
              "1      155.899142           1.0           1.5           155.513431   \n",
              "2      164.420256           1.0           1.5           164.289431   \n",
              "3      213.942537           1.0           1.5           213.818431   \n",
              "4      237.624435           1.0           1.5           237.454431   \n",
              "\n",
              "   interval 1  interval 2  \n",
              "0  137.808051  143.615045  \n",
              "1  155.068558  157.464763  \n",
              "2  161.347064  165.984340  \n",
              "3  213.067558  215.499860  \n",
              "4  235.235141  239.179553  "
            ],
            "text/html": [
              "\n",
              "  <div id=\"df-6181e201-9615-4a8d-bc00-7ec0973f849e\" class=\"colab-df-container\">\n",
              "    <div>\n",
              "<style scoped>\n",
              "    .dataframe tbody tr th:only-of-type {\n",
              "        vertical-align: middle;\n",
              "    }\n",
              "\n",
              "    .dataframe tbody tr th {\n",
              "        vertical-align: top;\n",
              "    }\n",
              "\n",
              "    .dataframe thead th {\n",
              "        text-align: right;\n",
              "    }\n",
              "</style>\n",
              "<table border=\"1\" class=\"dataframe\">\n",
              "  <thead>\n",
              "    <tr style=\"text-align: right;\">\n",
              "      <th></th>\n",
              "      <th>trial_id</th>\n",
              "      <th>goCueTrigger_times</th>\n",
              "      <th>stimOff_times</th>\n",
              "      <th>goCue_times</th>\n",
              "      <th>response_times</th>\n",
              "      <th>choice</th>\n",
              "      <th>stimOn_times</th>\n",
              "      <th>contrastLeft</th>\n",
              "      <th>contrastRight</th>\n",
              "      <th>probabilityLeft</th>\n",
              "      <th>feedback_times</th>\n",
              "      <th>feedbackType</th>\n",
              "      <th>rewardVolume</th>\n",
              "      <th>firstMovement_times</th>\n",
              "      <th>interval 1</th>\n",
              "      <th>interval 2</th>\n",
              "    </tr>\n",
              "  </thead>\n",
              "  <tbody>\n",
              "    <tr>\n",
              "      <th>0</th>\n",
              "      <td>19</td>\n",
              "      <td>140.251848</td>\n",
              "      <td>143.115020</td>\n",
              "      <td>140.252673</td>\n",
              "      <td>141.071847</td>\n",
              "      <td>1.0</td>\n",
              "      <td>140.251707</td>\n",
              "      <td>NaN</td>\n",
              "      <td>0.0</td>\n",
              "      <td>0.5</td>\n",
              "      <td>141.072658</td>\n",
              "      <td>-1.0</td>\n",
              "      <td>0.0</td>\n",
              "      <td>140.613431</td>\n",
              "      <td>137.808051</td>\n",
              "      <td>143.615045</td>\n",
              "    </tr>\n",
              "    <tr>\n",
              "      <th>1</th>\n",
              "      <td>23</td>\n",
              "      <td>155.748159</td>\n",
              "      <td>156.964635</td>\n",
              "      <td>155.749090</td>\n",
              "      <td>155.899059</td>\n",
              "      <td>1.0</td>\n",
              "      <td>155.747990</td>\n",
              "      <td>0.0</td>\n",
              "      <td>NaN</td>\n",
              "      <td>0.5</td>\n",
              "      <td>155.899142</td>\n",
              "      <td>1.0</td>\n",
              "      <td>1.5</td>\n",
              "      <td>155.513431</td>\n",
              "      <td>155.068558</td>\n",
              "      <td>157.464763</td>\n",
              "    </tr>\n",
              "    <tr>\n",
              "      <th>2</th>\n",
              "      <td>25</td>\n",
              "      <td>162.984454</td>\n",
              "      <td>165.484250</td>\n",
              "      <td>162.985300</td>\n",
              "      <td>164.420146</td>\n",
              "      <td>-1.0</td>\n",
              "      <td>162.984267</td>\n",
              "      <td>NaN</td>\n",
              "      <td>0.0</td>\n",
              "      <td>0.5</td>\n",
              "      <td>164.420256</td>\n",
              "      <td>1.0</td>\n",
              "      <td>1.5</td>\n",
              "      <td>164.289431</td>\n",
              "      <td>161.347064</td>\n",
              "      <td>165.984340</td>\n",
              "    </tr>\n",
              "    <tr>\n",
              "      <th>3</th>\n",
              "      <td>37</td>\n",
              "      <td>213.633558</td>\n",
              "      <td>214.999831</td>\n",
              "      <td>213.634434</td>\n",
              "      <td>213.942458</td>\n",
              "      <td>-1.0</td>\n",
              "      <td>213.633335</td>\n",
              "      <td>NaN</td>\n",
              "      <td>0.0</td>\n",
              "      <td>0.5</td>\n",
              "      <td>213.942537</td>\n",
              "      <td>1.0</td>\n",
              "      <td>1.5</td>\n",
              "      <td>213.818431</td>\n",
              "      <td>213.067558</td>\n",
              "      <td>215.499860</td>\n",
              "    </tr>\n",
              "    <tr>\n",
              "      <th>4</th>\n",
              "      <td>43</td>\n",
              "      <td>237.532947</td>\n",
              "      <td>238.679463</td>\n",
              "      <td>237.533678</td>\n",
              "      <td>237.624347</td>\n",
              "      <td>-1.0</td>\n",
              "      <td>237.532778</td>\n",
              "      <td>NaN</td>\n",
              "      <td>0.0</td>\n",
              "      <td>0.5</td>\n",
              "      <td>237.624435</td>\n",
              "      <td>1.0</td>\n",
              "      <td>1.5</td>\n",
              "      <td>237.454431</td>\n",
              "      <td>235.235141</td>\n",
              "      <td>239.179553</td>\n",
              "    </tr>\n",
              "  </tbody>\n",
              "</table>\n",
              "</div>\n",
              "    <div class=\"colab-df-buttons\">\n",
              "\n",
              "  <div class=\"colab-df-container\">\n",
              "    <button class=\"colab-df-convert\" onclick=\"convertToInteractive('df-6181e201-9615-4a8d-bc00-7ec0973f849e')\"\n",
              "            title=\"Convert this dataframe to an interactive table.\"\n",
              "            style=\"display:none;\">\n",
              "\n",
              "  <svg xmlns=\"http://www.w3.org/2000/svg\" height=\"24px\" viewBox=\"0 -960 960 960\">\n",
              "    <path d=\"M120-120v-720h720v720H120Zm60-500h600v-160H180v160Zm220 220h160v-160H400v160Zm0 220h160v-160H400v160ZM180-400h160v-160H180v160Zm440 0h160v-160H620v160ZM180-180h160v-160H180v160Zm440 0h160v-160H620v160Z\"/>\n",
              "  </svg>\n",
              "    </button>\n",
              "\n",
              "  <style>\n",
              "    .colab-df-container {\n",
              "      display:flex;\n",
              "      gap: 12px;\n",
              "    }\n",
              "\n",
              "    .colab-df-convert {\n",
              "      background-color: #E8F0FE;\n",
              "      border: none;\n",
              "      border-radius: 50%;\n",
              "      cursor: pointer;\n",
              "      display: none;\n",
              "      fill: #1967D2;\n",
              "      height: 32px;\n",
              "      padding: 0 0 0 0;\n",
              "      width: 32px;\n",
              "    }\n",
              "\n",
              "    .colab-df-convert:hover {\n",
              "      background-color: #E2EBFA;\n",
              "      box-shadow: 0px 1px 2px rgba(60, 64, 67, 0.3), 0px 1px 3px 1px rgba(60, 64, 67, 0.15);\n",
              "      fill: #174EA6;\n",
              "    }\n",
              "\n",
              "    .colab-df-buttons div {\n",
              "      margin-bottom: 4px;\n",
              "    }\n",
              "\n",
              "    [theme=dark] .colab-df-convert {\n",
              "      background-color: #3B4455;\n",
              "      fill: #D2E3FC;\n",
              "    }\n",
              "\n",
              "    [theme=dark] .colab-df-convert:hover {\n",
              "      background-color: #434B5C;\n",
              "      box-shadow: 0px 1px 3px 1px rgba(0, 0, 0, 0.15);\n",
              "      filter: drop-shadow(0px 1px 2px rgba(0, 0, 0, 0.3));\n",
              "      fill: #FFFFFF;\n",
              "    }\n",
              "  </style>\n",
              "\n",
              "    <script>\n",
              "      const buttonEl =\n",
              "        document.querySelector('#df-6181e201-9615-4a8d-bc00-7ec0973f849e button.colab-df-convert');\n",
              "      buttonEl.style.display =\n",
              "        google.colab.kernel.accessAllowed ? 'block' : 'none';\n",
              "\n",
              "      async function convertToInteractive(key) {\n",
              "        const element = document.querySelector('#df-6181e201-9615-4a8d-bc00-7ec0973f849e');\n",
              "        const dataTable =\n",
              "          await google.colab.kernel.invokeFunction('convertToInteractive',\n",
              "                                                    [key], {});\n",
              "        if (!dataTable) return;\n",
              "\n",
              "        const docLinkHtml = 'Like what you see? Visit the ' +\n",
              "          '<a target=\"_blank\" href=https://colab.research.google.com/notebooks/data_table.ipynb>data table notebook</a>'\n",
              "          + ' to learn more about interactive tables.';\n",
              "        element.innerHTML = '';\n",
              "        dataTable['output_type'] = 'display_data';\n",
              "        await google.colab.output.renderOutput(dataTable, element);\n",
              "        const docLink = document.createElement('div');\n",
              "        docLink.innerHTML = docLinkHtml;\n",
              "        element.appendChild(docLink);\n",
              "      }\n",
              "    </script>\n",
              "  </div>\n",
              "\n",
              "\n",
              "    <div id=\"df-29560ae9-04b4-4e1b-b406-1870e097574d\">\n",
              "      <button class=\"colab-df-quickchart\" onclick=\"quickchart('df-29560ae9-04b4-4e1b-b406-1870e097574d')\"\n",
              "                title=\"Suggest charts\"\n",
              "                style=\"display:none;\">\n",
              "\n",
              "<svg xmlns=\"http://www.w3.org/2000/svg\" height=\"24px\"viewBox=\"0 0 24 24\"\n",
              "     width=\"24px\">\n",
              "    <g>\n",
              "        <path d=\"M19 3H5c-1.1 0-2 .9-2 2v14c0 1.1.9 2 2 2h14c1.1 0 2-.9 2-2V5c0-1.1-.9-2-2-2zM9 17H7v-7h2v7zm4 0h-2V7h2v10zm4 0h-2v-4h2v4z\"/>\n",
              "    </g>\n",
              "</svg>\n",
              "      </button>\n",
              "\n",
              "<style>\n",
              "  .colab-df-quickchart {\n",
              "      --bg-color: #E8F0FE;\n",
              "      --fill-color: #1967D2;\n",
              "      --hover-bg-color: #E2EBFA;\n",
              "      --hover-fill-color: #174EA6;\n",
              "      --disabled-fill-color: #AAA;\n",
              "      --disabled-bg-color: #DDD;\n",
              "  }\n",
              "\n",
              "  [theme=dark] .colab-df-quickchart {\n",
              "      --bg-color: #3B4455;\n",
              "      --fill-color: #D2E3FC;\n",
              "      --hover-bg-color: #434B5C;\n",
              "      --hover-fill-color: #FFFFFF;\n",
              "      --disabled-bg-color: #3B4455;\n",
              "      --disabled-fill-color: #666;\n",
              "  }\n",
              "\n",
              "  .colab-df-quickchart {\n",
              "    background-color: var(--bg-color);\n",
              "    border: none;\n",
              "    border-radius: 50%;\n",
              "    cursor: pointer;\n",
              "    display: none;\n",
              "    fill: var(--fill-color);\n",
              "    height: 32px;\n",
              "    padding: 0;\n",
              "    width: 32px;\n",
              "  }\n",
              "\n",
              "  .colab-df-quickchart:hover {\n",
              "    background-color: var(--hover-bg-color);\n",
              "    box-shadow: 0 1px 2px rgba(60, 64, 67, 0.3), 0 1px 3px 1px rgba(60, 64, 67, 0.15);\n",
              "    fill: var(--button-hover-fill-color);\n",
              "  }\n",
              "\n",
              "  .colab-df-quickchart-complete:disabled,\n",
              "  .colab-df-quickchart-complete:disabled:hover {\n",
              "    background-color: var(--disabled-bg-color);\n",
              "    fill: var(--disabled-fill-color);\n",
              "    box-shadow: none;\n",
              "  }\n",
              "\n",
              "  .colab-df-spinner {\n",
              "    border: 2px solid var(--fill-color);\n",
              "    border-color: transparent;\n",
              "    border-bottom-color: var(--fill-color);\n",
              "    animation:\n",
              "      spin 1s steps(1) infinite;\n",
              "  }\n",
              "\n",
              "  @keyframes spin {\n",
              "    0% {\n",
              "      border-color: transparent;\n",
              "      border-bottom-color: var(--fill-color);\n",
              "      border-left-color: var(--fill-color);\n",
              "    }\n",
              "    20% {\n",
              "      border-color: transparent;\n",
              "      border-left-color: var(--fill-color);\n",
              "      border-top-color: var(--fill-color);\n",
              "    }\n",
              "    30% {\n",
              "      border-color: transparent;\n",
              "      border-left-color: var(--fill-color);\n",
              "      border-top-color: var(--fill-color);\n",
              "      border-right-color: var(--fill-color);\n",
              "    }\n",
              "    40% {\n",
              "      border-color: transparent;\n",
              "      border-right-color: var(--fill-color);\n",
              "      border-top-color: var(--fill-color);\n",
              "    }\n",
              "    60% {\n",
              "      border-color: transparent;\n",
              "      border-right-color: var(--fill-color);\n",
              "    }\n",
              "    80% {\n",
              "      border-color: transparent;\n",
              "      border-right-color: var(--fill-color);\n",
              "      border-bottom-color: var(--fill-color);\n",
              "    }\n",
              "    90% {\n",
              "      border-color: transparent;\n",
              "      border-bottom-color: var(--fill-color);\n",
              "    }\n",
              "  }\n",
              "</style>\n",
              "\n",
              "      <script>\n",
              "        async function quickchart(key) {\n",
              "          const quickchartButtonEl =\n",
              "            document.querySelector('#' + key + ' button');\n",
              "          quickchartButtonEl.disabled = true;  // To prevent multiple clicks.\n",
              "          quickchartButtonEl.classList.add('colab-df-spinner');\n",
              "          try {\n",
              "            const charts = await google.colab.kernel.invokeFunction(\n",
              "                'suggestCharts', [key], {});\n",
              "          } catch (error) {\n",
              "            console.error('Error during call to suggestCharts:', error);\n",
              "          }\n",
              "          quickchartButtonEl.classList.remove('colab-df-spinner');\n",
              "          quickchartButtonEl.classList.add('colab-df-quickchart-complete');\n",
              "        }\n",
              "        (() => {\n",
              "          let quickchartButtonEl =\n",
              "            document.querySelector('#df-29560ae9-04b4-4e1b-b406-1870e097574d button');\n",
              "          quickchartButtonEl.style.display =\n",
              "            google.colab.kernel.accessAllowed ? 'block' : 'none';\n",
              "        })();\n",
              "      </script>\n",
              "    </div>\n",
              "\n",
              "    </div>\n",
              "  </div>\n"
            ],
            "application/vnd.google.colaboratory.intrinsic+json": {
              "type": "dataframe",
              "variable_name": "tr0",
              "summary": "{\n  \"name\": \"tr0\",\n  \"rows\": 74,\n  \"fields\": [\n    {\n      \"column\": \"trial_id\",\n      \"properties\": {\n        \"dtype\": \"number\",\n        \"std\": 177,\n        \"min\": 19,\n        \"max\": 585,\n        \"num_unique_values\": 74,\n        \"samples\": [\n          43,\n          543,\n          157\n        ],\n        \"semantic_type\": \"\",\n        \"description\": \"\"\n      }\n    },\n    {\n      \"column\": \"goCueTrigger_times\",\n      \"properties\": {\n        \"dtype\": \"number\",\n        \"std\": 794.8592059364731,\n        \"min\": 140.25184779324076,\n        \"max\": 2761.873919947989,\n        \"num_unique_values\": 74,\n        \"samples\": [\n          237.5329468965654,\n          2459.8972120385474,\n          763.8215286798895\n        ],\n        \"semantic_type\": \"\",\n        \"description\": \"\"\n      }\n    },\n    {\n      \"column\": \"stimOff_times\",\n      \"properties\": {\n        \"dtype\": \"number\",\n        \"std\": 840.3096858330634,\n        \"min\": 143.11502040014312,\n        \"max\": 4086.2809977040865,\n        \"num_unique_values\": 74,\n        \"samples\": [\n          238.67946300023868,\n          2462.4501970224624,\n          765.1879402207652\n        ],\n        \"semantic_type\": \"\",\n        \"description\": \"\"\n      }\n    },\n    {\n      \"column\": \"goCue_times\",\n      \"properties\": {\n        \"dtype\": \"number\",\n        \"std\": 794.8591856815108,\n        \"min\": 140.25267333014025,\n        \"max\": 2761.874651582762,\n        \"num_unique_values\": 74,\n        \"samples\": [\n          237.53367759023755,\n          2459.89808559246,\n          763.8224101207638\n        ],\n        \"semantic_type\": \"\",\n        \"description\": \"\"\n      }\n    },\n    {\n      \"column\": \"response_times\",\n      \"properties\": {\n        \"dtype\": \"number\",\n        \"std\": 796.4724407143361,\n        \"min\": 141.07184666685743,\n        \"max\": 2783.6192314623318,\n        \"num_unique_values\": 74,\n        \"samples\": [\n          237.6243471390602,\n          2460.373612971237,\n          764.1205290002578\n        ],\n        \"semantic_type\": \"\",\n        \"description\": \"\"\n      }\n    },\n    {\n      \"column\": \"choice\",\n      \"properties\": {\n        \"dtype\": \"number\",\n        \"std\": 0.9886433997839259,\n        \"min\": -1.0,\n        \"max\": 1.0,\n        \"num_unique_values\": 2,\n        \"samples\": [\n          -1.0,\n          1.0\n        ],\n        \"semantic_type\": \"\",\n        \"description\": \"\"\n      }\n    },\n    {\n      \"column\": \"stimOn_times\",\n      \"properties\": {\n        \"dtype\": \"number\",\n        \"std\": 794.8592092341568,\n        \"min\": 140.25170676014025,\n        \"max\": 2761.873751672762,\n        \"num_unique_values\": 74,\n        \"samples\": [\n          237.53277768023753,\n          2459.89701903246\n        ],\n        \"semantic_type\": \"\",\n        \"description\": \"\"\n      }\n    },\n    {\n      \"column\": \"contrastLeft\",\n      \"properties\": {\n        \"dtype\": \"number\",\n        \"std\": 0.0,\n        \"min\": 0.0,\n        \"max\": 0.0,\n        \"num_unique_values\": 1,\n        \"samples\": [\n          0.0\n        ],\n        \"semantic_type\": \"\",\n        \"description\": \"\"\n      }\n    },\n    {\n      \"column\": \"contrastRight\",\n      \"properties\": {\n        \"dtype\": \"number\",\n        \"std\": 0.0,\n        \"min\": 0.0,\n        \"max\": 0.0,\n        \"num_unique_values\": 1,\n        \"samples\": [\n          0.0\n        ],\n        \"semantic_type\": \"\",\n        \"description\": \"\"\n      }\n    },\n    {\n      \"column\": \"probabilityLeft\",\n      \"properties\": {\n        \"dtype\": \"number\",\n        \"std\": 0.27982911165386143,\n        \"min\": 0.2,\n        \"max\": 0.8,\n        \"num_unique_values\": 3,\n        \"samples\": [\n          0.5\n        ],\n        \"semantic_type\": \"\",\n        \"description\": \"\"\n      }\n    },\n    {\n      \"column\": \"feedback_times\",\n      \"properties\": {\n        \"dtype\": \"number\",\n        \"std\": 840.2368964899031,\n        \"min\": 141.07265799014107,\n        \"max\": 4086.115247614086,\n        \"num_unique_values\": 74,\n        \"samples\": [\n          237.62443518023764\n        ],\n        \"semantic_type\": \"\",\n        \"description\": \"\"\n      }\n    },\n    {\n      \"column\": \"feedbackType\",\n      \"properties\": {\n        \"dtype\": \"number\",\n        \"std\": 0.9693564776427047,\n        \"min\": -1.0,\n        \"max\": 1.0,\n        \"num_unique_values\": 2,\n        \"samples\": [\n          1.0\n        ],\n        \"semantic_type\": \"\",\n        \"description\": \"\"\n      }\n    },\n    {\n      \"column\": \"rewardVolume\",\n      \"properties\": {\n        \"dtype\": \"number\",\n        \"std\": 0.7270173582320285,\n        \"min\": 0.0,\n        \"max\": 1.5,\n        \"num_unique_values\": 2,\n        \"samples\": [\n          1.5\n        ],\n        \"semantic_type\": \"\",\n        \"description\": \"\"\n      }\n    },\n    {\n      \"column\": \"firstMovement_times\",\n      \"properties\": {\n        \"dtype\": \"number\",\n        \"std\": 795.4421956195116,\n        \"min\": 140.61343089000013,\n        \"max\": 2764.0034308900026,\n        \"num_unique_values\": 74,\n        \"samples\": [\n          237.45443089000022\n        ],\n        \"semantic_type\": \"\",\n        \"description\": \"\"\n      }\n    },\n    {\n      \"column\": \"interval 1\",\n      \"properties\": {\n        \"dtype\": \"number\",\n        \"std\": 795.4908521665905,\n        \"min\": 137.8080511501378,\n        \"max\": 2760.863119412761,\n        \"num_unique_values\": 74,\n        \"samples\": [\n          235.23514080023523\n        ],\n        \"semantic_type\": \"\",\n        \"description\": \"\"\n      }\n    },\n    {\n      \"column\": \"interval 2\",\n      \"properties\": {\n        \"dtype\": \"number\",\n        \"std\": 796.5980648263131,\n        \"min\": 143.615045173418,\n        \"max\": 2785.173534285349,\n        \"num_unique_values\": 74,\n        \"samples\": [\n          239.1795532651917\n        ],\n        \"semantic_type\": \"\",\n        \"description\": \"\"\n      }\n    }\n  ]\n}"
            }
          },
          "metadata": {},
          "execution_count": 32
        }
      ]
    },
    {
      "cell_type": "code",
      "source": [
        "stim_times2 = tr0['stimOn_times'].values\n",
        "print(len(stim_times2))"
      ],
      "metadata": {
        "colab": {
          "base_uri": "https://localhost:8080/"
        },
        "id": "y5gi28wwd4J3",
        "outputId": "0b9b4112-cc1a-43a2-a9f1-7702640456b0"
      },
      "execution_count": null,
      "outputs": [
        {
          "output_type": "stream",
          "name": "stdout",
          "text": [
            "74\n"
          ]
        }
      ]
    },
    {
      "cell_type": "code",
      "source": [
        "def extract_pre_stim(X_times, X_clusters, units, stim_times, pre=0.5):\n",
        "    n_trials = len(stim_times)\n",
        "    n_units  = len(units)\n",
        "    X = np.zeros((n_trials, n_units), dtype=float)\n",
        "    spikes_by_unit = {u: X_times[X_clusters == u] for u in units}\n",
        "    for i, t0 in enumerate(stim_times):\n",
        "        start, end = t0 - pre, t0\n",
        "        for j, u in enumerate(units):\n",
        "            st = spikes_by_unit[u]\n",
        "            X[i, j] = np.sum((st > start) & (st < end)) / pre  # firing rate\n",
        "    return X\n",
        "\n",
        "X = extract_pre_stim(spike_times, spike_clusters, unit_ids, stim_times2)\n",
        "print(\"X shape:\", X.shape)  # should be (n_trials, n_units)"
      ],
      "metadata": {
        "colab": {
          "base_uri": "https://localhost:8080/"
        },
        "id": "K8AMxDCgdpq9",
        "outputId": "6e05d9ed-b845-4bdf-f8f0-f467a0c8f233"
      },
      "execution_count": null,
      "outputs": [
        {
          "output_type": "stream",
          "name": "stdout",
          "text": [
            "X shape: (74, 730)\n"
          ]
        }
      ]
    },
    {
      "cell_type": "code",
      "source": [
        "y = tr0['choice'].map({-1.0: 0, 1.0: 1}).values\n",
        "print(\"Shape of X:\", X.shape)  # (n_trials, n_units)\n",
        "print(\"Label distribution:\", np.bincount(y))\n",
        "print(y.shape)"
      ],
      "metadata": {
        "colab": {
          "base_uri": "https://localhost:8080/"
        },
        "id": "qMRchIXXeSJg",
        "outputId": "b5692548-bb4a-4037-d018-b21e9b4074b3"
      },
      "execution_count": null,
      "outputs": [
        {
          "output_type": "stream",
          "name": "stdout",
          "text": [
            "Shape of X: (74, 730)\n",
            "Label distribution: [44 30]\n",
            "(74,)\n"
          ]
        }
      ]
    },
    {
      "cell_type": "code",
      "source": [
        "from sklearn.linear_model import LogisticRegression\n",
        "from sklearn.model_selection import cross_val_score\n",
        "\n",
        "clf = LogisticRegression(max_iter=1000)\n",
        "scores = cross_val_score(clf, X, y, cv=5)\n",
        "\n",
        "print(f\"Mean accuracy: {scores.mean():.3f} ± {scores.std():.3f}\")"
      ],
      "metadata": {
        "colab": {
          "base_uri": "https://localhost:8080/"
        },
        "id": "LuBbRBpqhXzY",
        "outputId": "a529bf34-bdf3-4e48-84e9-24849ec31da1"
      },
      "execution_count": null,
      "outputs": [
        {
          "output_type": "stream",
          "name": "stdout",
          "text": [
            "Mean accuracy: 0.594 ± 0.074\n"
          ]
        }
      ]
    },
    {
      "cell_type": "code",
      "source": [
        "clf.fit(X, y)\n",
        "weights = clf.coef_[0]  # one weight per neuron\n",
        "# Get top 10 positively and negatively weighted units\n",
        "pos_idx = np.argsort(weights)[-10:]\n",
        "neg_idx = np.argsort(weights)[:10]\n",
        "\n",
        "print(\"Top + units:\", pos_idx)\n",
        "print(\"Top – units:\", neg_idx)"
      ],
      "metadata": {
        "colab": {
          "base_uri": "https://localhost:8080/"
        },
        "id": "nhvjee7Uhip2",
        "outputId": "87048441-c50c-4439-e720-6b039e65fdf2"
      },
      "execution_count": null,
      "outputs": [
        {
          "output_type": "stream",
          "name": "stdout",
          "text": [
            "Top + units: [619 365 502 601 266 653 227 252  20  14]\n",
            "Top – units: [492 486 395  51 230 427 478  62 368 189]\n"
          ]
        }
      ]
    },
    {
      "cell_type": "code",
      "source": [
        "from sklearn.model_selection import cross_val_score\n",
        "\n",
        "n_perm = 50\n",
        "\n",
        "# Actual model performance\n",
        "actual_score = cross_val_score(clf, X, y, cv=5, n_jobs=-1).mean()\n",
        "\n",
        "# Permutation scores (parallelized)\n",
        "def permuted_score(_):\n",
        "    y_perm = np.random.permutation(y)\n",
        "    return cross_val_score(clf, X, y_perm, cv=5, n_jobs=-1).mean()\n",
        "\n",
        "# Use joblib for parallelism\n",
        "from joblib import Parallel, delayed\n",
        "perm_scores = Parallel(n_jobs=-1)(delayed(permuted_score)(i) for i in range(n_perm))\n",
        "\n",
        "# Compute p-value\n",
        "p_val = np.mean(np.array(perm_scores) >= actual_score)\n",
        "print(f\"Permutation p‑value: {p_val:.3f}\")"
      ],
      "metadata": {
        "colab": {
          "base_uri": "https://localhost:8080/"
        },
        "id": "B7p2ybn0hm9X",
        "outputId": "d062b5ea-be9d-4b31-e540-3730b42c3f5d"
      },
      "execution_count": null,
      "outputs": [
        {
          "output_type": "stream",
          "name": "stdout",
          "text": [
            "Permutation p‑value: 0.180\n"
          ]
        }
      ]
    }
  ]
}